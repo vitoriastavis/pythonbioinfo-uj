{
 "cells": [
  {
   "cell_type": "markdown",
   "metadata": {
    "id": "fK2ZVq0T5YPe"
   },
   "source": [
    "Python for Bioinformatics, Practical Classes 2"
   ]
  },
  {
   "cell_type": "markdown",
   "metadata": {
    "id": "3Ow9mJm-5YPj"
   },
   "source": [
    "<h3> Lambda+map/filter "
   ]
  },
  {
   "cell_type": "markdown",
   "metadata": {
    "id": "hWnaYM7f5YPk"
   },
   "source": [
    "<h4> Exercise1: Let's define a list of sequences [\"ATGGGG\", \"AAATT\", \"GGGATAGAGA\", \"GAGAT\"] and in the next step create  a new list which elements are lengths for each sequence -> [6, 5, 10, 5]."
   ]
  },
  {
   "cell_type": "code",
   "execution_count": null,
   "metadata": {
    "colab": {
     "base_uri": "https://localhost:8080/"
    },
    "id": "4gvV8pT65v2c",
    "outputId": "8178d929-2a13-4a9b-8a24-490e6db07db7",
    "tags": []
   },
   "outputs": [
    {
     "name": "stdout",
     "output_type": "stream",
     "text": [
      "[6, 5, 10, 5]\n"
     ]
    }
   ],
   "source": [
    "# exercise 1\n",
    "\n",
    "x = [\"ATGGGG\", \"AAATT\", \"GGGATAGAGA\", \"GAGAT\"]\n",
    "\n",
    "y = list(map(lambda a: len(a),x))  #apply lambda expression for every element in x\n",
    "print(y)"
   ]
  },
  {
   "cell_type": "markdown",
   "metadata": {
    "id": "4bkgrHa05YPm"
   },
   "source": [
    "<h4> Exercise2: Let's define a list of sequences [\"ATGGGG\", \"AAATT\", \"GGGATAGAGA\", \"GAGAT\"] and in the next step create  a new list which contains only these sequences which starts with \"G\" -> [\"GGGATAGAGA\", \"GAGAT\"]."
   ]
  },
  {
   "cell_type": "code",
   "execution_count": null,
   "metadata": {
    "colab": {
     "base_uri": "https://localhost:8080/"
    },
    "id": "nm_UcOAJ6a5g",
    "outputId": "548225de-1b8c-42b7-ad8e-023c98db2679"
   },
   "outputs": [
    {
     "name": "stdout",
     "output_type": "stream",
     "text": [
      "['GGGATAGAGA', 'GAGAT']\n"
     ]
    }
   ],
   "source": [
    "# exercise 2\n",
    "\n",
    "x = [\"ATGGGG\", \"AAATT\", \"GGGATAGAGA\", \"GAGAT\"]\n",
    "\n",
    "y = list(filter(lambda a: a[0] == 'G',x))  #apply lambda expression for every element in x\n",
    "print(y)"
   ]
  },
  {
   "cell_type": "markdown",
   "metadata": {
    "id": "WCQ0ndOy5YPo"
   },
   "source": [
    "<h3> FASTA files processing"
   ]
  },
  {
   "cell_type": "markdown",
   "metadata": {
    "id": "ntsdJw7V5YPq"
   },
   "source": [
    "<h4> Example: Printing headings from a file containing sequences in FASTA format."
   ]
  },
  {
   "cell_type": "code",
   "execution_count": null,
   "metadata": {
    "colab": {
     "base_uri": "https://localhost:8080/"
    },
    "id": "aTDRLOem5YPr",
    "outputId": "839bfb28-730e-4c77-d31e-5efd42e3f0b1"
   },
   "outputs": [
    {
     "name": "stdout",
     "output_type": "stream",
     "text": [
      ">s1\n",
      ">s2\n",
      ">s3\n"
     ]
    }
   ],
   "source": [
    "with open('sequences', 'r') as f:\n",
    "    for line in f:  #for every line in sequences file\n",
    "        line = line.rstrip() #The rstrip() method removes characters at the end a string (including \"\\n\")\n",
    "        if line.startswith('>'):\n",
    "            print(line)"
   ]
  },
  {
   "cell_type": "code",
   "execution_count": null,
   "metadata": {
    "colab": {
     "base_uri": "https://localhost:8080/"
    },
    "id": "kabrRjpn5YPu",
    "outputId": "6028c969-e761-4d34-abfb-c6acabb50295"
   },
   "outputs": [
    {
     "name": "stdout",
     "output_type": "stream",
     "text": [
      ">s1\n",
      "\n",
      "ATGCGCG\n",
      "\n",
      ">s2\n",
      "\n",
      "TATCGGCG\n",
      "\n",
      ">s3\n",
      "\n",
      "CCCCCCCCCC\n"
     ]
    }
   ],
   "source": [
    "f = open(\"sequences\", \"r\")\n",
    "for line in f:\n",
    "    print(line)"
   ]
  },
  {
   "cell_type": "markdown",
   "metadata": {
    "id": "XiTbGP-n5YPw"
   },
   "source": [
    "<h4> Exercise3: Open a file 'sequneces' and save sequences into the dictionary variable Seq.\n",
    "\n",
    " <br>\n",
    " \n",
    "Remark: You may start with creating two lists containing headings and sequences and in the next step convert them into a dictionary."
   ]
  },
  {
   "cell_type": "code",
   "execution_count": null,
   "metadata": {
    "colab": {
     "base_uri": "https://localhost:8080/"
    },
    "id": "5XIAgzXT66jM",
    "outputId": "d509139e-c49d-4cf4-86d1-be7702cabc30"
   },
   "outputs": [
    {
     "data": {
      "text/plain": [
       "{'>s1': 'ATGCGCG', '>s2': 'TATCGGCG', '>s3': 'CCCCCCCCCC'}"
      ]
     },
     "execution_count": 5,
     "metadata": {},
     "output_type": "execute_result"
    }
   ],
   "source": [
    "# exercise 3\n",
    "\n",
    "headings = []\n",
    "sequences = []\n",
    "\n",
    "with open('sequences', 'r') as f:\n",
    "    for line in f:  #for every line in sequences file\n",
    "        line = line.rstrip() #The rstrip() method removes characters at the end a string (including \"\\n\")\n",
    "        if line.startswith('>'):\n",
    "            headings.append(line)\n",
    "        else:\n",
    "            sequences.append(line)\n",
    "\n",
    "res = dict(zip(headings, sequences))\n",
    "\n",
    "res"
   ]
  },
  {
   "cell_type": "markdown",
   "metadata": {
    "id": "fu1T94wB5YPx"
   },
   "source": [
    "<h3> Searching the set of Sequences"
   ]
  },
  {
   "cell_type": "markdown",
   "metadata": {
    "id": "HlnmlHoE5YPy"
   },
   "source": [
    "In the next three exercises, we will be searching a text file containing sequences."
   ]
  },
  {
   "cell_type": "markdown",
   "metadata": {
    "id": "k0bWtvQ85YPy"
   },
   "source": [
    "<h4> Exercise4: Consider the following nucleotide sequence:"
   ]
  },
  {
   "cell_type": "markdown",
   "metadata": {
    "id": "Zbxrl1Df5YPz"
   },
   "source": [
    "<h4> File \"database_n\" contains 100 nucleotide sequences. \n",
    "<br>\n",
    "    \n",
    "Make an alignment between every subsequent sequence in the file and the query (assume the following system points: match:1, mismatch:-3, insert=1, extend=1). \n",
    "    \n",
    "- Which sequences are the most similar to the query? You may plot the distributions of scores using plt.hist(data) method."
   ]
  },
  {
   "cell_type": "code",
   "execution_count": 19,
   "metadata": {
    "id": "Ts8jb-d-70mK"
   },
   "outputs": [
    {
     "ename": "ModuleNotFoundError",
     "evalue": "No module named 'practical1'",
     "output_type": "error",
     "traceback": [
      "\u001b[0;31m---------------------------------------------------------------------------\u001b[0m",
      "\u001b[0;31mModuleNotFoundError\u001b[0m                       Traceback (most recent call last)",
      "\u001b[0;32m/tmp/ipykernel_9726/3028631174.py\u001b[0m in \u001b[0;36m<module>\u001b[0;34m\u001b[0m\n\u001b[1;32m      1\u001b[0m \u001b[0;31m# exercise 4\u001b[0m\u001b[0;34m\u001b[0m\u001b[0;34m\u001b[0m\u001b[0m\n\u001b[1;32m      2\u001b[0m \u001b[0;34m\u001b[0m\u001b[0m\n\u001b[0;32m----> 3\u001b[0;31m \u001b[0;32mfrom\u001b[0m \u001b[0mpractical1\u001b[0m \u001b[0;32mimport\u001b[0m \u001b[0mDNA_2\u001b[0m\u001b[0;34m,\u001b[0m \u001b[0mSequenceAlign\u001b[0m\u001b[0;34m\u001b[0m\u001b[0;34m\u001b[0m\u001b[0m\n\u001b[0m\u001b[1;32m      4\u001b[0m \u001b[0;32mimport\u001b[0m \u001b[0mmatplotlib\u001b[0m\u001b[0;34m.\u001b[0m\u001b[0mpyplot\u001b[0m \u001b[0;32mas\u001b[0m \u001b[0mplt\u001b[0m\u001b[0;34m\u001b[0m\u001b[0;34m\u001b[0m\u001b[0m\n\u001b[1;32m      5\u001b[0m \u001b[0;34m\u001b[0m\u001b[0m\n",
      "\u001b[0;31mModuleNotFoundError\u001b[0m: No module named 'practical1'"
     ]
    }
   ],
   "source": [
    "# exercise 4\n",
    "\n",
    "from pc1 import DNA_2, SequenceAlign\n",
    "import matplotlib.pyplot as plt\n",
    "\n",
    "query = \"ATGCAACATATGCGACAAATGCTATTCTTATTATATTCGGATTC\"\n",
    "\n",
    "headings = []\n",
    "sequences = []\n",
    "\n",
    "scores_n = []\n",
    "indexes = []\n",
    "count = 0\n",
    "\n",
    "with open('database_n', 'r') as f:\n",
    "    for line in f:  #for every line in sequences file\n",
    "        line = line.rstrip() \n",
    "        if line.startswith('>'):\n",
    "            headings.append(line)\n",
    "        else:\n",
    "            sequences.append(line)\n",
    "\n",
    "n_dict = dict(zip(headings, sequences))\n",
    "\n",
    "for idx in n_dict:\n",
    "    seq = n_dict[idx]\n",
    "\n",
    "    score, align_a, align_b = SequenceAlign(query, seq, similarityMatrix=DNA_2, insert=1, extend=1)\n",
    "\n",
    "    scores_n.append(score)\n",
    "    indexes.append(count)\n",
    "    count+=1"
   ]
  },
  {
   "cell_type": "code",
   "execution_count": null,
   "metadata": {
    "colab": {
     "base_uri": "https://localhost:8080/",
     "height": 499
    },
    "id": "mT-xwiXMDJZn",
    "outputId": "49d8bbca-cf9a-4118-d6a9-6ab40c5f4b2e"
   },
   "outputs": [
    {
     "data": {
      "text/plain": [
       "(array([ 6., 39., 37., 14.,  1.,  0.,  0.,  0.,  0.,  3.]),\n",
       " array([-17. , -11.4,  -5.8,  -0.2,   5.4,  11. ,  16.6,  22.2,  27.8,\n",
       "         33.4,  39. ]),\n",
       " <BarContainer object of 10 artists>)"
      ]
     },
     "execution_count": 7,
     "metadata": {},
     "output_type": "execute_result"
    },
    {
     "data": {
      "image/png": "[encoded data removed]",
      "text/plain": [
       "<Figure size 640x480 with 1 Axes>"
      ]
     },
     "metadata": {},
     "output_type": "display_data"
    }
   ],
   "source": [
    "plt.hist(scores_n)\n",
    "\n",
    "# 3 sequences have scores between 30-40"
   ]
  },
  {
   "cell_type": "code",
   "execution_count": null,
   "metadata": {
    "colab": {
     "base_uri": "https://localhost:8080/",
     "height": 472
    },
    "id": "tUF7T3VkBo-l",
    "outputId": "657c4d78-76c9-4fa2-9673-6a27979bfd5c"
   },
   "outputs": [
    {
     "data": {
      "image/png": "[encoded data removed]",
      "text/plain": [
       "<Figure size 640x480 with 1 Axes>"
      ]
     },
     "metadata": {},
     "output_type": "display_data"
    }
   ],
   "source": [
    "plt.plot(indexes, scores_n)\n",
    "plt.title('alignment score between query and given nt sequences')\n",
    "plt.xlabel('sequence index number')\n",
    "plt.ylabel('score')\n",
    "plt.show()"
   ]
  },
  {
   "cell_type": "code",
   "execution_count": null,
   "metadata": {
    "colab": {
     "base_uri": "https://localhost:8080/"
    },
    "id": "GEiQH6M_vgWM",
    "outputId": "d1b4d6e4-d3b5-4a31-ffab-27816f3d24c3"
   },
   "outputs": [
    {
     "data": {
      "text/plain": [
       "array([44, 11, 77])"
      ]
     },
     "execution_count": 9,
     "metadata": {},
     "output_type": "execute_result"
    }
   ],
   "source": [
    "import numpy as np\n",
    "from scipy import stats\n",
    "\n",
    "ind = np.argpartition(scores_n, -3)[-3:]\n",
    "\n",
    "ind\n",
    "\n",
    "# ind = [44, 11, 77]\n",
    "# query is more similar to these sequences"
   ]
  },
  {
   "cell_type": "markdown",
   "metadata": {
    "id": "d6gOVLR-5YP0"
   },
   "source": [
    "<h4> Exercise5: Consider the following protein sequence:"
   ]
  },
  {
   "cell_type": "markdown",
   "metadata": {
    "id": "z82Zs_T35YP1"
   },
   "source": [
    "<h4> File \"database_p\" contains 100 protein sequences. \n",
    "<br>\n",
    "    \n",
    "\n",
    "    \n",
    "Using k-mers with k=3, compare every sequence in the file and the query (you may use k_comparison method from the lecture2). \n",
    "    \n",
    "- Which sequences are the most similar to the query? You may plot the distributions of distances using plt.hist(data) method. \n",
    "\n",
    "- What are the advantages and disadvatages of such an approach comparing to the alignment approach?  \n",
    "    \n",
    "- In the nucleotide case, the $k$ parameter should be bigger or smaller? Why?"
   ]
  },
  {
   "cell_type": "code",
   "execution_count": 31,
   "metadata": {
    "id": "KGJElqIfCpPl"
   },
   "outputs": [],
   "source": [
    "#k-mers \n",
    "def kmers(seq, k = 3):\n",
    "    d = {}\n",
    "    N = len(seq)\n",
    "    for i in range(N-k+1):\n",
    "        mer = seq[i:(i+k)]\n",
    "        if mer not in d.keys():\n",
    "            d[mer] = 1\n",
    "        else:\n",
    "            d[mer] += 1\n",
    "            \n",
    "    return d\n",
    "\n",
    "#k-comparison\n",
    "def k_comparison(seq1, seq2, k=3):\n",
    "    d1 = kmers(seq1, k)\n",
    "    d2 = kmers(seq2, k)\n",
    "    keysd1 = list(d1.keys())\n",
    "    keysd2 = list(d2.keys())\n",
    "    unique_mers = list(set(keysd1+keysd2))\n",
    "    c1 = []\n",
    "    c2 = []\n",
    "    for elem in unique_mers:\n",
    "        if elem in d1.keys():\n",
    "            c1.append(d1[elem])\n",
    "        else:\n",
    "            c1.append(0)\n",
    "            \n",
    "    for elem in unique_mers:\n",
    "        if elem in d2.keys():\n",
    "            c2.append(d2[elem])\n",
    "        else:\n",
    "            c2.append(0)\n",
    "\n",
    "    distance = 0\n",
    "\n",
    "    for i in range(len(c1)):\n",
    "        distance += (c1[i]-c2[i])**2\n",
    "        \n",
    "    return round(distance**0.5,2)"
   ]
  },
  {
   "cell_type": "code",
   "execution_count": null,
   "metadata": {
    "id": "Z5X-j3hgCaZr"
   },
   "outputs": [],
   "source": [
    "# exercise 5\n",
    "\n",
    "def kmer_score_p(n_mers):\n",
    "    query = \"EKPDPHTKMHQYWLKPYELMEIYYQYRPFINFDQQMRVGLRCEA\"\n",
    "\n",
    "    headings = []\n",
    "    sequences = []\n",
    "\n",
    "    scores_p = []\n",
    "\n",
    "    with open('database_p', 'r') as f:\n",
    "        for line in f:  #for every line in sequences file\n",
    "            line = line.rstrip() \n",
    "            if line.startswith('>'):\n",
    "                headings.append(line)\n",
    "            else:\n",
    "                sequences.append(line)\n",
    "\n",
    "    p_dict = dict(zip(headings, sequences))\n",
    "\n",
    "    for idx in p_dict:\n",
    "        seq = p_dict[idx]\n",
    "\n",
    "        score = k_comparison(seq, query, n_mers)\n",
    "\n",
    "        scores_p.append(score)\n",
    "    \n",
    "    return scores_p"
   ]
  },
  {
   "cell_type": "code",
   "execution_count": null,
   "metadata": {
    "colab": {
     "base_uri": "https://localhost:8080/",
     "height": 1000
    },
    "id": "ywQ-dyWLHXi6",
    "outputId": "4a5970da-058f-4829-d3ae-7d09a2190742"
   },
   "outputs": [
    {
     "data": {
      "image/png": "[encoded data removed]",
      "text/plain": [
       "<Figure size 500x3000 with 8 Axes>"
      ]
     },
     "metadata": {},
     "output_type": "display_data"
    }
   ],
   "source": [
    "k_list = [1, 3, 5, 8, 15, 20, 30, 50]\n",
    "\n",
    "fig, axis = plt.subplots(8, 1, figsize=(5, 30))\n",
    "\n",
    "fig.text(0.5, 0.1, 'score range', ha='center', va='center')\n",
    "fig.text(0.06, 0.5, 'number of observations', ha='center', va='center', rotation='vertical')\n",
    "\n",
    "for i in range(len(k_list)):  \n",
    "\n",
    "    scores = kmer_score_p(k_list[i])\n",
    "\n",
    "    axis[i].hist(scores)\n",
    "    axis[i].set_title(\"kmer size: \"+ str(k_list[i]))\n",
    "\n",
    "# According to the following graphs, a k-value around 20 generates a good result\n",
    "# k=1 also generates a result that looks good but I believe it's not right"
   ]
  },
  {
   "cell_type": "code",
   "execution_count": null,
   "metadata": {
    "colab": {
     "base_uri": "https://localhost:8080/",
     "height": 499
    },
    "id": "kZYeX-Oo0fQX",
    "outputId": "e64196ac-6488-48a6-9fec-209eaa442620"
   },
   "outputs": [
    {
     "data": {
      "text/plain": [
       "(array([ 1.,  0.,  1.,  0.,  0.,  0.,  1., 37., 51.,  9.]),\n",
       " array([5.57 , 5.741, 5.912, 6.083, 6.254, 6.425, 6.596, 6.767, 6.938,\n",
       "        7.109, 7.28 ]),\n",
       " <BarContainer object of 10 artists>)"
      ]
     },
     "execution_count": 19,
     "metadata": {},
     "output_type": "execute_result"
    },
    {
     "data": {
      "image/png": "[encoded data removed]",
      "text/plain": [
       "<Figure size 640x480 with 1 Axes>"
      ]
     },
     "metadata": {},
     "output_type": "display_data"
    }
   ],
   "source": [
    "scores_p = kmer_score_p(20)\n",
    "\n",
    "plt.hist(scores_p)\n",
    "\n",
    "# 9 sequences have scores between 7.109 and 7.28"
   ]
  },
  {
   "cell_type": "code",
   "execution_count": null,
   "metadata": {
    "colab": {
     "base_uri": "https://localhost:8080/"
    },
    "id": "TGaNevCC-Kue",
    "outputId": "c298b447-87a6-4f6d-9634-cb5a4b5d983a"
   },
   "outputs": [
    {
     "data": {
      "text/plain": [
       "array([34, 55, 45, 32, 15, 76, 74, 70, 49])"
      ]
     },
     "execution_count": 20,
     "metadata": {},
     "output_type": "execute_result"
    }
   ],
   "source": [
    "ind = np.argpartition(scores_p, -9)[-9:]\n",
    "\n",
    "ind\n",
    "\n",
    "# ind = [34, 55, 45, 32, 15, 76, 74, 70, 49]\n",
    "# query is more similar to these sequences"
   ]
  },
  {
   "cell_type": "markdown",
   "metadata": {
    "id": "0rv4o_fI2nsp"
   },
   "source": [
    "Advantages of kmer method: require less computational power, doesn't require gap scores for penalties, thresholds and so on which if assumed wrong can influence the results.\n",
    "Disavantages: finding out the best k-value"
   ]
  },
  {
   "cell_type": "code",
   "execution_count": null,
   "metadata": {
    "id": "dbj3ZNmLDl52"
   },
   "outputs": [],
   "source": [
    "# exercise 5 with nucleotides\n",
    "\n",
    "def kmer_score_n(n_mers):\n",
    "    query = \"ATGCAACATATGCGACAAATGCTATTCTTATTATATTCGGATTC\"\n",
    "\n",
    "    headings = []\n",
    "    sequences = []\n",
    "\n",
    "    scores_n = []\n",
    "\n",
    "    with open('database_n', 'r') as f:\n",
    "        for line in f:  #for every line in sequences file\n",
    "            line = line.rstrip() \n",
    "            if line.startswith('>'):\n",
    "                headings.append(line)\n",
    "            else:\n",
    "                sequences.append(line)\n",
    "\n",
    "    p_dict = dict(zip(headings, sequences))\n",
    "\n",
    "    for idx in p_dict:\n",
    "        seq = n_dict[idx]\n",
    "\n",
    "        score = k_comparison(seq, query, n_mers)\n",
    "\n",
    "        scores_n.append(score)\n",
    "    \n",
    "    return scores_n"
   ]
  },
  {
   "cell_type": "code",
   "execution_count": null,
   "metadata": {
    "colab": {
     "base_uri": "https://localhost:8080/",
     "height": 1000
    },
    "id": "P1cUrzwWGcdM",
    "outputId": "d06cf19e-34b5-4068-b5eb-659e1ebdf934"
   },
   "outputs": [
    {
     "data": {
      "image/png": "[encoded data removed]",
      "text/plain": [
       "<Figure size 500x3000 with 8 Axes>"
      ]
     },
     "metadata": {},
     "output_type": "display_data"
    }
   ],
   "source": [
    "# exercise 5 - with nucleotides - analysis\n",
    "\n",
    "k_list = [3, 5, 8, 15, 20, 30, 40, 50]\n",
    "\n",
    "fig, axis = plt.subplots(8, 1, figsize=(5, 30))\n",
    "\n",
    "fig.text(0.5, 0.1, 'score range', ha='center', va='center')\n",
    "fig.text(0.06, 0.5, 'number of observations', ha='center', va='center', rotation='vertical')\n",
    "\n",
    "for i in range(len(k_list)):  \n",
    "\n",
    "    scores = kmer_score_n(k_list[i])\n",
    "\n",
    "    axis[i].hist(scores)\n",
    "    axis[i].set_title(\"kmer size: \"+ str(k_list[i]))\n",
    "\n",
    "# I believe k around 30-4- works better so \n",
    "# the k-value has to be higher but not very high"
   ]
  },
  {
   "cell_type": "markdown",
   "metadata": {
    "id": "xnNlX1jz5YP2"
   },
   "source": [
    "<h4> Exercise6: Consider the following protein subsequence:"
   ]
  },
  {
   "cell_type": "markdown",
   "metadata": {
    "id": "xpIA0lRB5YP2"
   },
   "source": [
    "<h4> File \"database_p2\" contains 100 longer protein sequences. \n",
    "\n",
    "<h4> Using k-mers with k=3 compare every sequence in the file and the query - check which k-mers that are present in the query are present in the sequences from the file. As a result, for the comparison between two sequences you obtain the total number of k-mers shared between sequences (so if k-mer is present add 1).\n",
    "    \n",
    "<br>\n",
    "    \n",
    "    \n",
    "- Which sequences are the query sequence possibly derived from? Localize the query fragments.\n",
    "- Look at these sequences and make a comment on it."
   ]
  },
  {
   "cell_type": "code",
   "execution_count": null,
   "metadata": {
    "id": "UuwgCBDkJMlN"
   },
   "outputs": [],
   "source": [
    "#k-mers \n",
    "def kmers(seq, k = 3):\n",
    "    d = {}\n",
    "    N = len(seq)\n",
    "    for i in range(N-k+1):\n",
    "        mer = seq[i:(i+k)]\n",
    "        if mer not in d.keys():\n",
    "            d[mer] = 1\n",
    "        else:\n",
    "            d[mer] += 1\n",
    "    return d\n",
    "\n",
    "#k-comparison\n",
    "def k_comparison(seq1, seq2, k=3):\n",
    "    d1 = kmers(seq1, k)\n",
    "    d2 = kmers(seq2, k)\n",
    "    keysd1 = list(d1.keys())\n",
    "    keysd2 = list(d2.keys())\n",
    "    unique_mers = list(set(keysd1+keysd2))\n",
    "    c1 = []\n",
    "    c2 = []\n",
    "    for elem in unique_mers:\n",
    "        if elem in d1.keys():\n",
    "            c1.append(d1[elem])\n",
    "        else:\n",
    "            c1.append(0)\n",
    "            \n",
    "    for elem in unique_mers:\n",
    "        if elem in d2.keys():\n",
    "            c2.append(d2[elem])\n",
    "        else:\n",
    "            c2.append(0)\n",
    "\n",
    "    # total number of k-mers shared between sequences\n",
    "    kmer_count = 0\n",
    "    # check which k-mers that are present in the query are present in the sequences from the file\n",
    "    # assuming seq1 is the query and seq2 is the sequence from the file\n",
    "    for kmer in d1:\n",
    "        # if k-mer is present add 1\n",
    "        if kmer in d2:        \n",
    "            kmer_count += 1\n",
    "\n",
    "    distance = 0\n",
    "    for i in range(len(c1)):\n",
    "        distance += (c1[i]-c2[i])**2\n",
    "    return round(distance**0.5,2), kmer_count"
   ]
  },
  {
   "cell_type": "code",
   "execution_count": null,
   "metadata": {
    "id": "gZGtsN6-F4af"
   },
   "outputs": [],
   "source": [
    "# exercise 6\n",
    "\n",
    "query = \"WRQAAALQK\"  \n",
    "\n",
    "headings = []\n",
    "sequences = []\n",
    "\n",
    "scores_p2 = []\n",
    "kmer_counts = []\n",
    "\n",
    "indexes = []\n",
    "count = 0\n",
    "\n",
    "with open('database_p2', 'r') as f:\n",
    "    for line in f:  #for every line in sequences file\n",
    "        line = line.rstrip() \n",
    "        if line.startswith('>'):\n",
    "            headings.append(line)\n",
    "        else:\n",
    "            sequences.append(line)\n",
    "\n",
    "p2_dict = dict(zip(headings, sequences))\n",
    "\n",
    "for idx in p2_dict:\n",
    "    seq = p2_dict[idx]\n",
    "\n",
    "    score, kmer_count = k_comparison(seq, query)\n",
    "\n",
    "    scores_p2.append(score)\n",
    "    kmer_counts.append(kmer_count)\n",
    "\n",
    "    indexes.append(count)\n",
    "    count+=1"
   ]
  },
  {
   "cell_type": "code",
   "execution_count": null,
   "metadata": {
    "id": "XTjPq8leLdVE"
   },
   "outputs": [],
   "source": [
    "plt.plot(indexes, kmer_counts)\n",
    "plt.title('number of k-mers present also in the query sequence')\n",
    "plt.xlabel('sequence index number')\n",
    "plt.ylabel('k-mer count')\n",
    "plt.show()\n",
    "\n",
    "# higher kmer count values are 7, 6, 5 and 6\n",
    "# so we have to take the sequences for these kmer_counts"
   ]
  },
  {
   "cell_type": "code",
   "execution_count": null,
   "metadata": {
    "id": "wx7ClesNO_7f"
   },
   "outputs": [],
   "source": [
    "import numpy as np\n",
    "from scipy import stats\n",
    "\n",
    "ind = np.argpartition(kmer_counts, -4)[-4:]\n",
    "\n",
    "ind\n",
    "\n",
    "# ind = [58, 29, 99,  5]\n",
    "# query is most similar to of those sequences"
   ]
  },
  {
   "cell_type": "markdown",
   "metadata": {
    "id": "PPdybdR55YP2"
   },
   "source": [
    "<h3> MSA and Phylogeny"
   ]
  },
  {
   "cell_type": "code",
   "execution_count": 35,
   "metadata": {
    "id": "VOM1rmdV5YP3"
   },
   "outputs": [],
   "source": [
    "def Consensus(alignment, threshold = 0.3):\n",
    "    \"\"\"\n",
    "    This function returns a consensus\n",
    "    sequence for the list of sequneces\n",
    "    (alignment)\n",
    "    \"\"\"\n",
    "    \n",
    "    n = len(alignment[0]) #the length of an alignment\n",
    "    nS = len(alignment) #number of sequences\n",
    "    consensus_sequence = '' #here, there will be a consensus sequence\n",
    "    \n",
    "    for i in range(n):\n",
    "        \n",
    "        how_many = {}   \n",
    "        \n",
    "        for seq in alignment:\n",
    "            residue = seq[i]            \n",
    "            if residue == '-':\n",
    "                continue               \n",
    "            how_many[residue] = how_many.get(residue, 0) + 1            \n",
    "        \n",
    "        fractions = []\n",
    "        \n",
    "        for residue in how_many:            \n",
    "            frac = how_many[residue]/nS \n",
    "            fractions.append([frac, residue])\n",
    "            \n",
    "        fractions.sort()\n",
    "        \n",
    "        bestFraction, bestResidue = fractions[-1]\n",
    "        \n",
    "        if bestFraction < threshold:\n",
    "            consensus_sequence += 'X'\n",
    "        else:\n",
    "            consensus_sequence += bestResidue\n",
    "            \n",
    "    return consensus_sequence"
   ]
  },
  {
   "cell_type": "code",
   "execution_count": 36,
   "metadata": {
    "id": "KE8vkxvi5YP3"
   },
   "outputs": [
    {
     "name": "stdout",
     "output_type": "stream",
     "text": [
      "HXFSEXAVIXLIIFGVMAGVIGTILLISYGIRRLIK\n"
     ]
    }
   ],
   "source": [
    "alignment = ['TVPAPVAVIILIILCVMAGIIGTILLISYTIRRLIK',\n",
    "             'HHFSEPAEITLIIFGVMAGVIGTILLISYGIRRLIK',\n",
    "             'HEFSEL-VIALIIFGVMAGVIGTILFISYGSRRLIK']\n",
    "\n",
    "print(Consensus(alignment, threshold = 0.5))  "
   ]
  },
  {
   "cell_type": "markdown",
   "metadata": {
    "id": "SmIuWevH5YP3"
   },
   "source": [
    "<h4> Profile"
   ]
  },
  {
   "cell_type": "markdown",
   "metadata": {
    "id": "AHy2zk--UYYu"
   },
   "source": [
    "list of dicts for each position with fractions for each residue"
   ]
  },
  {
   "cell_type": "code",
   "execution_count": 40,
   "metadata": {
    "id": "1jyxHU3E5YP4"
   },
   "outputs": [],
   "source": [
    "def Profile(alignment):\n",
    "    \n",
    "    n = len(alignment[0])\n",
    "    nS = len(alignment)\n",
    "    profile = []\n",
    "    \n",
    "    for i in range(n):\n",
    "        \n",
    "        how_many = {}\n",
    "        \n",
    "        for seq in alignment:\n",
    "            residue = seq[i]\n",
    "            \n",
    "            if residue == '-':\n",
    "                continue\n",
    "                \n",
    "            how_many[residue] = how_many.get(residue, 0) + 1 \n",
    "            \n",
    "        for residue in how_many:\n",
    "            how_many[residue] /= nS #percentage\n",
    "            \n",
    "        profile.append(how_many)\n",
    "        \n",
    "    return profile"
   ]
  },
  {
   "cell_type": "code",
   "execution_count": 38,
   "metadata": {
    "id": "AcnZujf45YP4",
    "scrolled": true
   },
   "outputs": [
    {
     "name": "stdout",
     "output_type": "stream",
     "text": [
      "[{'S': 0.25, 'T': 0.25, 'H': 0.5}, {'A': 0.75}, {'R': 0.25, 'V': 0.25, 'H': 0.25, 'E': 0.25}, {'P': 0.5, 'F': 0.5}, {'A': 0.5, 'S': 0.5}, {'P': 0.5, 'E': 0.5}, {'V': 0.5, 'P': 0.25, 'L': 0.25}, {'V': 0.75, 'E': 0.25}, {'I': 1.0}, {'I': 0.5, 'T': 0.25, 'A': 0.25}, {'L': 1.0}]\n"
     ]
    }
   ],
   "source": [
    "alignment = ['S-RPAPVVIIL',\n",
    "             'TAVPAPVVIIL',\n",
    "             'HAHFSEPEITL',\n",
    "             'HAEFSELVIAL']\n",
    "\n",
    "print(Profile(alignment))"
   ]
  },
  {
   "cell_type": "markdown",
   "metadata": {
    "id": "DRYX8O525YP5"
   },
   "source": [
    "<h4> Exercise7: According to the Profile, what is the probability of observing the following sequences:\n",
    "        \n",
    "- TARPSPVEIAL \n",
    "- TARPSPVEIAA "
   ]
  },
  {
   "cell_type": "code",
   "execution_count": 48,
   "metadata": {
    "id": "1tt534xYUqUJ"
   },
   "outputs": [
    {
     "name": "stdout",
     "output_type": "stream",
     "text": [
      "probability of TARPSPVEIAL 0.000183\n",
      "probability of TARPSPVEIAA 0\n"
     ]
    }
   ],
   "source": [
    "# exercise 7\n",
    "\n",
    "alignment = ['S-RPAPVVIIL',\n",
    "             'TAVPAPVVIIL',\n",
    "             'HAHFSEPEITL',\n",
    "             'HAEFSELVIAL']\n",
    "\n",
    "profile = Profile(alignment)\n",
    "\n",
    "# TARPSPVEIAL \n",
    "p = 1\n",
    "query = \"TARPSPVEIAL\"\n",
    "for i in range(len(profile)):\n",
    "    position  = profile[i]\n",
    "    p *= position.get(query[i], 0)  \n",
    "\n",
    "print(\"probability of TARPSPVEIAL %f\" %p)\n",
    "\n",
    "# TARPSPVEIAA \n",
    "p = 1\n",
    "query = \"TARPSPVEIAA\"\n",
    "for i in range(len(profile)):\n",
    "    position  = profile[i]\n",
    "    p *= position.get(query[i], 0)  \n",
    "\n",
    "print(\"probability of TARPSPVEIAA %d\" %p)"
   ]
  },
  {
   "cell_type": "code",
   "execution_count": null,
   "metadata": {
    "id": "17Sc3ElJ5YP5"
   },
   "outputs": [],
   "source": [
    "import practical1 #import some python functions from previous practical classes\n",
    "print(dir(practical1))  #what is inside a file?"
   ]
  },
  {
   "cell_type": "code",
   "execution_count": null,
   "metadata": {
    "id": "Vf9A1WXJ5YP5"
   },
   "outputs": [],
   "source": [
    "from practical1 import BLOSUM62, DNA_2, SequenceAlign #let's import DNA_2/BLOSU62 variables and SequenceAlign function"
   ]
  },
  {
   "cell_type": "code",
   "execution_count": null,
   "metadata": {
    "id": "lTQahoD75YP6"
   },
   "outputs": [],
   "source": [
    "def ProfileAlign(profileA, profileB, similarityMatrix = DNA_2, insert=3, extend=1):\n",
    "    \n",
    "    import numpy as np\n",
    "    \n",
    "    numI = len(profileA) + 1\n",
    "    numJ = len(profileB) + 1\n",
    "    \n",
    "    SMatrix = np.zeros((numI, numJ))\n",
    "    RMatrix = np.zeros((numI, numJ))\n",
    "    \n",
    "    for i in range(1, numI):\n",
    "        RMatrix[i,0] = 1\n",
    "        \n",
    "    for j in range(1, numJ):\n",
    "        RMatrix[0,j] = 2\n",
    "\n",
    "    for i in range(1, numI):\n",
    "        for j in range(1, numJ):\n",
    "            \n",
    "            penalty1 = insert\n",
    "            penalty2 = insert\n",
    "            \n",
    "            if RMatrix[i-1, j] == 1:\n",
    "                penalty1 = extend\n",
    "                \n",
    "            elif RMatrix[i, j-1] == 2:\n",
    "                penalty2 = extend\n",
    "                \n",
    "            frac_A = profileA[i-1]\n",
    "            frac_B = profileB[j-1]\n",
    "            \n",
    "            similarity = 0\n",
    "            totalWeight = 0\n",
    "            \n",
    "            for residue_A in frac_A:\n",
    "                for residue_B in frac_B:\n",
    "                    \n",
    "                    weight = frac_A[residue_A] * frac_B[residue_B]\n",
    "                    totalWeight += weight\n",
    "                    similarity += weight * similarityMatrix[residue_A][residue_B]\n",
    "                    \n",
    "            penalty1 *= totalWeight\n",
    "            penalty2 *= totalWeight\n",
    "            \n",
    "            paths = [SMatrix[i-1, j-1] + similarity,\n",
    "                     SMatrix[i-1, j] - penalty1,\n",
    "                     SMatrix[i, j-1] - penalty2]\n",
    "            \n",
    "            best = max(paths) #maximum value of paths list\n",
    "            route = paths.index(best) #index where maximum value\n",
    "            \n",
    "            SMatrix[i, j] = best\n",
    "            RMatrix[i, j] = route\n",
    "            \n",
    "        pA = []\n",
    "        pB = []\n",
    "        \n",
    "        i = numI-1\n",
    "        j = numJ-1\n",
    "        \n",
    "        score = SMatrix[i, j]\n",
    "        \n",
    "        while i > 0 or j > 0:\n",
    "            route = RMatrix[i, j]\n",
    "            if route == 0: \n",
    "                pA.append(profileA[i-1])\n",
    "                pB.append(profileB[j-1])\n",
    "                i -= 1\n",
    "                j -= 1\n",
    "            elif route == 1: \n",
    "                pA.append(profileA[i-1])\n",
    "                pB.append(None)\n",
    "                i -= 1\n",
    "            elif route == 2: \n",
    "                pA.append(None)\n",
    "                pB.append(profileB[j-1])\n",
    "                j -= 1\n",
    "                \n",
    "    pA.reverse()\n",
    "    pB.reverse()\n",
    "    \n",
    "    return score, pA, pB"
   ]
  },
  {
   "cell_type": "code",
   "execution_count": null,
   "metadata": {
    "id": "QCjtQYn15YP6"
   },
   "outputs": [],
   "source": [
    "A = ['SRPAPVV--LII',  'TVPAPVVIILII']\n",
    "B = ['HHFSEPEITLIIF', 'H-FSELVIALIIF']\n",
    "\n",
    "score, pA, pB = ProfileAlign(Profile(A), Profile(B), BLOSUM62)\n",
    "print(score)\n",
    "print(pA)\n",
    "print(pB)"
   ]
  },
  {
   "cell_type": "markdown",
   "metadata": {
    "id": "BYCNuBqM5YP6"
   },
   "source": [
    "which correspond to :\n",
    "\n",
    "\n",
    "---SRPAPVV--LII-\n",
    "\n",
    "---TVPAPVVIILII-\n",
    "\n",
    "HHFSE--PEIT-LIIF\n",
    "\n",
    "H-FSE--LVIA-LIIF"
   ]
  },
  {
   "cell_type": "markdown",
   "metadata": {
    "id": "cv4f8eNy5YP6"
   },
   "source": [
    "<h4> Profile Multiple Sequence Alignment\n",
    "   <br> \n",
    "    \n",
    "    \n",
    "Algorithm:\n",
    "- make an alignment between the first two sequences\n",
    "- make a profile from current sequences\n",
    "- convert the next sequence into a profile\n",
    "- compare profiles\n",
    "- repeat three last steps"
   ]
  },
  {
   "cell_type": "code",
   "execution_count": null,
   "metadata": {
    "id": "7--lN2EV5YP7"
   },
   "outputs": [],
   "source": [
    "def ProfileMultipleAlignment(seqs, similarityMatrix = DNA_2):\n",
    "    \"\"\"\n",
    "    This function returns Multiple Sequence Alignment (MSA)\n",
    "    for a given list of sequences using profiles.\n",
    "    \"\"\"\n",
    "    n = len(seqs)\n",
    "    \n",
    "    score, alignA, alignB = SequenceAlign(seqs[0], seqs[1], similarityMatrix) #alignment for two first sequences\n",
    "    \n",
    "    MSA = [alignA, alignB]\n",
    "    \n",
    "    for i in range(2,n):\n",
    "        \n",
    "        profA = Profile(MSA)\n",
    "        toAdd = [seqs[i],] #the next sequence (3d, 4th and so on)\n",
    "        profB = Profile(toAdd)\n",
    "        score, alignA, alignB = ProfileAlign(profA, profB, similarityMatrix) #alignment between two profiles\n",
    "        \n",
    "        gaps = []\n",
    "        \n",
    "        for j, frac in enumerate(alignA):\n",
    "            if frac is None:\n",
    "                gaps.append(j)\n",
    "                \n",
    "        for j, seq in enumerate(MSA):\n",
    "            for gap in gaps:\n",
    "                seq = seq[:gap] + '-' + seq[gap:]\n",
    "                MSA[j] = seq\n",
    "                \n",
    "        gaps = []\n",
    "        \n",
    "        for j, frac in enumerate(alignB):\n",
    "            if frac is None:\n",
    "                gaps.append(j)\n",
    "                \n",
    "        for j, seq in enumerate(toAdd):\n",
    "            for gap in gaps:\n",
    "                seq = seq[:gap] + '-' + seq[gap:]\n",
    "            toAdd[j] = seq\n",
    "    \n",
    "        MSA.extend(toAdd)\n",
    "        \n",
    "    return MSA"
   ]
  },
  {
   "cell_type": "code",
   "execution_count": null,
   "metadata": {
    "id": "poKgxLlk5YP7"
   },
   "outputs": [],
   "source": [
    "sequences = ['SRPAPVVLIILCVMAGVIGTILLISYGIRLLIK',\n",
    "             'TVPAPVVIILIILCVMAGIIGTILLLIISYTIRRLIK',\n",
    "             'HHFSEPEITLIIFGVMAGVIGTILLLIISYGIRLIK',\n",
    "             'HFSELVIALIIFGVMAGVIGTILFISYGSRLIK']\n",
    "\n",
    "align = ProfileMultipleAlignment(sequences, BLOSUM62)\n",
    "\n",
    "for k, seq in enumerate(align):\n",
    "    print(k, seq)"
   ]
  },
  {
   "cell_type": "markdown",
   "metadata": {
    "id": "JYMzyQkU5YP7"
   },
   "source": [
    "<h4> Conservation (when MSA given)"
   ]
  },
  {
   "cell_type": "code",
   "execution_count": null,
   "metadata": {
    "id": "v1JpFuUJ5YP8"
   },
   "outputs": [],
   "source": [
    "def Conservation(align, similarityMatrix = DNA_2):\n",
    "    \n",
    "    \"\"\"\n",
    "    This functions returns a list of numbers which indicate\n",
    "    on the conservation of subsequent position. 1 means that\n",
    "    the same residue is in all aligned sequences.\n",
    "    \"\"\"\n",
    "    \n",
    "    conservation = []\n",
    "    prof = Profile(align)\n",
    "    \n",
    "    for elem in prof:\n",
    "        \n",
    "        items = list(elem.items())\n",
    "        items.sort(key = lambda x: x[1])\n",
    "        score = 0\n",
    "        for resA, compA in items:\n",
    "            for resB, compB in items:\n",
    "                score += compA*compB*similarityMatrix[resA][resB]\n",
    "                \n",
    "        bestLetter = items[-1][0]\n",
    "        maxScore = similarityMatrix[bestLetter][bestLetter]\n",
    "        score /= maxScore\n",
    "        \n",
    "        conservation.append(score)\n",
    "        \n",
    "    return conservation"
   ]
  },
  {
   "cell_type": "code",
   "execution_count": null,
   "metadata": {
    "id": "4AkNKrfM5YP8"
   },
   "outputs": [],
   "source": [
    "alignment = ['AAGCCGCACACAGACCCTGAG',\n",
    "             'AAGCTGCACGCAGACCCTGAG',\n",
    "             'AGGCTGCACGCAGACCCTGAG',\n",
    "             'AAGCTGCACGTGGACCCTGAG',\n",
    "             'AGGCTGCACGTGGACCCTGAG',\n",
    "             'AGGCTGCACGTGGACCCTGAG',\n",
    "             'AAGCTGCATGTGGACCCTGAG']\n",
    "\n",
    "print(Conservation(alignment, DNA_2))"
   ]
  },
  {
   "cell_type": "markdown",
   "metadata": {
    "id": "Q_KhvOoG5YP8"
   },
   "source": [
    "Explanation"
   ]
  },
  {
   "cell_type": "code",
   "execution_count": null,
   "metadata": {
    "id": "_mcWdu2m5YP8"
   },
   "outputs": [],
   "source": [
    "3/7, 4/7"
   ]
  },
  {
   "cell_type": "code",
   "execution_count": null,
   "metadata": {
    "id": "_cCfOwoE5YP8"
   },
   "outputs": [],
   "source": [
    "0.42857142857142855*0.42857142857142855*1 +0.5714285714285714*0.5714285714285714*1+2*0.5714285714285714*0.42857142857142855*(-3)"
   ]
  },
  {
   "cell_type": "code",
   "execution_count": null,
   "metadata": {
    "id": "uE95fuOk5YP9"
   },
   "outputs": [],
   "source": [
    "alignment2 = ['QPVHPFSRPAPVVIILIILCVMAGVIGTILLISYGIRLLIK-------------',\n",
    "              'QLVHRFTVPAPVVIILIILCVMAGIIGTILLISYTIRRLIK-------------',\n",
    "              'QLAHHFSEPE---ITLIIFGVMAGVIGTILLISYGIRRLIKKSPSDVKPLPSPD',\n",
    "              'QLVHEFSELV---IALIIFGVMAGVIGTILFISYGSRRLIKKSESDVQPLPPPD',\n",
    "              'MLEHEFSAPV---AILIILGVMAGIIGIILLISYSIGQIIKKRSVDIQPPEDED',\n",
    "              'PIQHDFPALV---MILIILGVMAGIIGTILLISYCISRMTKKSSVDIQSPEGGD',\n",
    "              'QLVHIFSEPV---IIGIIYAVMLGIIITILSIAFCIGQLTKKSSLPAQVASPED',\n",
    "              '-LAHDFSQPV---ITVIILGVMAGIIGIILLLAYVSRRLRKRP-----PADVP-',\n",
    "              'SYHQDFSHAE---ITGIIFAVMAGLLLIIFLIAYLIRRMIKKPLPVPKPQDSPD']\n",
    "\n",
    "print(Conservation(alignment2, BLOSUM62))"
   ]
  },
  {
   "cell_type": "code",
   "execution_count": null,
   "metadata": {
    "id": "11CkpGra5YP9"
   },
   "outputs": [],
   "source": [
    "cv = Conservation(alignment2, BLOSUM62)\n",
    "print(list(map(lambda x: round(x, 2), cv )))  #round to two digits"
   ]
  },
  {
   "cell_type": "code",
   "execution_count": null,
   "metadata": {
    "id": "msEUaqjw5YP9"
   },
   "outputs": [],
   "source": [
    "#visualise the conservativity \n",
    "\n",
    "import matplotlib.pyplot as plt\n",
    "\n",
    "fig = plt.figure(figsize=(20, 5))\n",
    "plt.plot(cv)\n",
    "for xc in range(len(cv)):\n",
    "    plt.vlines(x = xc, ymin = 0, ymax = cv[xc], colors = 'purple')\n",
    "plt.xticks(range(len(cv)), list(Consensus(alignment2)))\n",
    "plt.xlabel(\"Consensus sequence\")\n",
    "plt.ylabel(\"Conservativity\")\n",
    "plt.show()"
   ]
  },
  {
   "cell_type": "markdown",
   "metadata": {
    "id": "TsJL4rdm5YP9"
   },
   "source": [
    "<h4> MSA with a nice visualisation"
   ]
  },
  {
   "cell_type": "code",
   "execution_count": null,
   "metadata": {
    "id": "5XKs-hsL5YP9"
   },
   "outputs": [],
   "source": [
    "def AlignComparison(align, similarityMatrix, thresholds):\n",
    "    \n",
    "    similarity = ''\n",
    "    conservation = Conservation(align, similarityMatrix)\n",
    "    t_1, t_2, t_3 = thresholds\n",
    "    \n",
    "    for S in conservation:\n",
    "        if S >= t_1:\n",
    "            char = '*'\n",
    "        elif S >= t_2:\n",
    "            char = ':'\n",
    "        elif S >= t_3:\n",
    "            char = '.'\n",
    "        else:\n",
    "            char = ' '\n",
    "        similarity += char\n",
    "        \n",
    "    return similarity"
   ]
  },
  {
   "cell_type": "code",
   "execution_count": null,
   "metadata": {
    "id": "SbnqdDTp5YP-"
   },
   "outputs": [],
   "source": [
    "symbols = AlignComparison(alignment2, BLOSUM62, (1.0, 0.5, 0.3))\n",
    "\n",
    "for sequence in alignment2:\n",
    "    print(sequence)\n",
    "    \n",
    "print(symbols)"
   ]
  },
  {
   "cell_type": "markdown",
   "metadata": {
    "id": "FwT3Tk2X5YP-"
   },
   "source": [
    "<h4> Exercise8: Open the file \"sparc_sequences\" and perform the multiple sequence alignment (using profiles) and then, save it into the file adding at the end Align Comparison line. "
   ]
  },
  {
   "cell_type": "code",
   "execution_count": null,
   "metadata": {
    "id": "ot0hWRtnFfaI"
   },
   "outputs": [],
   "source": [
    "# exercise 8\n",
    "\n",
    "headings = []\n",
    "sequences = []\n",
    "\n",
    "f = open(\"sparc_sequences.txt\", \"r\")\n",
    "\n",
    "\n",
    "for line in f:  #for every line in sequences file\n",
    "    line = line.rstrip() #The rstrip() method removes characters at the end a string (including \"\\n\")\n",
    "    if line.startswith('>'):\n",
    "        continue\n",
    "        #headings.append(line)\n",
    "    else:\n",
    "        sequences.append(line)\n",
    "\n",
    "alignments = ProfileMultipleAlignment(sequences)\n",
    "\n",
    "symbols = AlignComparison(alignments, DNA_2, (1.0, 0.5, 0.3))\n",
    "\n",
    "f = open(\"sparc_sequences.txt\", \"a\")\n",
    "f.write(\"\\n\")\n",
    "for seq in alignments:\n",
    "     f.write(seq+\"\\n\")\n",
    "f.write(symbols)\n",
    "\n",
    "f.close()"
   ]
  },
  {
   "cell_type": "code",
   "execution_count": null,
   "metadata": {
    "id": "LeCT8WuVIfXy"
   },
   "outputs": [],
   "source": [
    "f = open(\"sparc_sequences.txt\", \"r\")\n",
    "print(f.read()) "
   ]
  },
  {
   "cell_type": "markdown",
   "metadata": {
    "id": "sZaguilU5YP_"
   },
   "source": [
    "<h4> Distance matrices"
   ]
  },
  {
   "cell_type": "markdown",
   "metadata": {
    "id": "5CnZEJai5YP_"
   },
   "source": [
    "Idea: More similar sequences -> higher score -> smaller distance"
   ]
  },
  {
   "cell_type": "code",
   "execution_count": null,
   "metadata": {
    "id": "Fae6NP-l5YP_"
   },
   "outputs": [],
   "source": [
    "def Score(align1, align2, similarityMatrix = DNA_2, gap = 3):\n",
    "    n = len(align1)\n",
    "    S = 0\n",
    "    for i in range(n):\n",
    "        if align1[i] == '-' or align2[i] == '-':\n",
    "            S -= gap\n",
    "        else:\n",
    "            S += similarityMatrix[align1[i]][align2[i]]\n",
    "    return S\n",
    "            \n",
    "\n",
    "def SimMatrix(alignment, similarityMatrix = DNA_2, gap = 3):\n",
    "    import numpy as np\n",
    "    \n",
    "    n = len(alignment)\n",
    "    A = np.zeros((n,n))\n",
    "    for i in range(n):\n",
    "        for j in range(n):\n",
    "            M = max(Score(alignment[i], alignment[i], similarityMatrix, gap), Score(alignment[j], alignment[j], similarityMatrix, gap))\n",
    "            A[i,j] = M - Score(alignment[i], alignment[j], similarityMatrix, gap) #the smaler value the more similar sequences are\n",
    "    return A\n",
    "\n",
    "#Remark: for the simplicity we assumed the same gap penalty for insertion and extension"
   ]
  },
  {
   "cell_type": "code",
   "execution_count": null,
   "metadata": {
    "id": "DSaBBsKW5YP_"
   },
   "outputs": [],
   "source": [
    "organisms = [\"human\",\"mouse\",\"rat\",\"chicken\"]\n",
    "\n",
    "insuline = [\"MALWMRLLPLLALLALWGPDPAAAFVNQHLCGSHLVEALYLVCGERGFFYTPKTRREAEDLQVGQVELGGGPGAGSLQPLALEGSLQKRGIVEQCCTSICSLYQLENYCN\",\n",
    "         \"MALWMRFLPLLALLFLWESHPTQAFVKQHLCGSHLVEALYLVCGERGFFYTPMSRREVEDPQVAQLELGGGPGAGDLQTLALEVAQQKRGIVDQCCTSICSLYQLENYCN\",\n",
    "         \"MALWIRFLPLLALLILWEPRPAQAFVKQHLCGSHLVEALYLVCGERGFFYTPMSRREVEDPQVAQLELGGGPGAGDLQTLALEVARQKRGIVDQCCTSICSLYQLENYCN\",\n",
    "         \"MALWIRSLPLLALLVFSGPGTSYAAANQHLCGSHLVEALYLVCGERGFFYSPKARRDVEQPLVSSPLRGEAGVLPFQQEEYEKVKRGIVEQCCHNTCSLYQLENYCN\"]\n",
    "\n",
    "align = ProfileMultipleAlignment(insuline, BLOSUM62)\n",
    "\n",
    "for k, seq in enumerate(align):\n",
    "    print(k, seq)"
   ]
  },
  {
   "cell_type": "code",
   "execution_count": null,
   "metadata": {
    "id": "chx-af0I5YQA"
   },
   "outputs": [],
   "source": [
    "align"
   ]
  },
  {
   "cell_type": "code",
   "execution_count": null,
   "metadata": {
    "id": "GBx8zKt75YQA"
   },
   "outputs": [],
   "source": [
    "print(SimMatrix(align, BLOSUM62)) #Similarity matrix for insuline sequences"
   ]
  },
  {
   "cell_type": "markdown",
   "metadata": {
    "id": "lMZElSaE5YQB"
   },
   "source": [
    "<h4> Phylogenetic trees using UPGMA method"
   ]
  },
  {
   "cell_type": "code",
   "execution_count": null,
   "metadata": {
    "id": "6nTmNZqE5YQB"
   },
   "outputs": [],
   "source": [
    "import numpy as np\n",
    "import matplotlib.pyplot as plt\n",
    "from scipy.cluster.hierarchy import dendrogram, linkage #to generate a tree\n",
    "from scipy.spatial.distance import pdist  #to prepare an approprite format\n",
    "\n",
    "X = pdist(SimMatrix(align, BLOSUM62)) \n",
    "dist = linkage(X, method=\"average\")  #average = UPGMA method\n",
    "\n",
    "\n",
    "fig = plt.figure(figsize=(20, 5))\n",
    "dn = dendrogram(dist, labels = organisms, orientation = \"left\")\n",
    "plt.show()"
   ]
  },
  {
   "cell_type": "markdown",
   "metadata": {
    "id": "0vF40EYl5YQC"
   },
   "source": [
    "<h3> Free-alignment methods and phylogeny"
   ]
  },
  {
   "cell_type": "markdown",
   "metadata": {
    "id": "fkSBE34r5YQC"
   },
   "source": [
    "<h4> Exercise9: Define a function $MerMatrix$ that takes a list of sequences and returns a matrix of distances between them (see Lecture 2, $k\\_comparison$ function). Use this matrix to generate a phylogenetic tree for insuline sequences."
   ]
  },
  {
   "cell_type": "code",
   "execution_count": 51,
   "metadata": {
    "id": "WfZCKbSEgGpu"
   },
   "outputs": [],
   "source": [
    "# exercise 9\n",
    "\n",
    "def kmers(seq, k = 3):\n",
    "    d = {}\n",
    "    N = len(seq)\n",
    "    for i in range(N-k+1):\n",
    "        mer = seq[i:(i+k)]\n",
    "        if mer not in d.keys():\n",
    "            d[mer] = 1\n",
    "        else:\n",
    "            d[mer] += 1\n",
    "    return d\n",
    "\n",
    "def k_comparison(seq1, seq2, k=3):\n",
    "    d1 = kmers(seq1, k)\n",
    "    d2 = kmers(seq2, k)\n",
    "\n",
    "    keysd1 = list(d1.keys())\n",
    "    keysd2 = list(d2.keys())\n",
    "    unique_mers = list(set(keysd1+keysd2))\n",
    "    c1 = []\n",
    "    c2 = []\n",
    "    for elem in unique_mers:\n",
    "        if elem in d1.keys():\n",
    "            c1.append(d1[elem])\n",
    "        else:\n",
    "            c1.append(0)\n",
    "            \n",
    "    for elem in unique_mers:\n",
    "        if elem in d2.keys():\n",
    "            c2.append(d2[elem])\n",
    "        else:\n",
    "            c2.append(0)\n",
    "    distance = 0\n",
    "    for i in range(len(c1)):\n",
    "        distance += (c1[i]-c2[i])**2\n",
    "    return round(distance**0.5,2)\n",
    "\n",
    "\n",
    "def mermatrix(sequences):\n",
    "    size = len(sequences)\n",
    "    matrix = np.empty((size, size))\n",
    "    for i in range(size):\n",
    "        for j in range(size):\n",
    "            seq1 = sequences[i]\n",
    "            seq2 = sequences[j]\n",
    "            distance = k_comparison(seq1, seq2)\n",
    "\n",
    "            matrix[i][j] = distance\n",
    "    return matrix"
   ]
  },
  {
   "cell_type": "code",
   "execution_count": 55,
   "metadata": {
    "id": "ThpkYEZ6Bn6G"
   },
   "outputs": [
    {
     "name": "stderr",
     "output_type": "stream",
     "text": [
      "/tmp/ipykernel_9726/3306245369.py:13: ClusterWarning: scipy.cluster: The symmetric non-negative hollow observation matrix looks suspiciously like an uncondensed distance matrix\n",
      "  dist = linkage(X, method=\"average\")  #average = UPGMA method\n"
     ]
    },
    {
     "data": {
      "image/png": "[encoded data removed]",
      "text/plain": [
       "<Figure size 640x480 with 1 Axes>"
      ]
     },
     "metadata": {},
     "output_type": "display_data"
    }
   ],
   "source": [
    "import numpy as np\n",
    "import matplotlib.pyplot as plt\n",
    "from scipy.cluster.hierarchy import dendrogram, linkage \n",
    "\n",
    "organisms = [\"human\",\"mouse\",\"rat\",\"chicken\"]\n",
    "\n",
    "insuline = [\"MALWMRLLPLLALLALWGPDPAAAFVNQHLCGSHLVEALYLVCGERGFFYTPKTRREAEDLQVGQVELGGGPGAGSLQPLALEGSLQKRGIVEQCCTSICSLYQLENYCN\",\n",
    "         \"MALWMRFLPLLALLFLWESHPTQAFVKQHLCGSHLVEALYLVCGERGFFYTPMSRREVEDPQVAQLELGGGPGAGDLQTLALEVAQQKRGIVDQCCTSICSLYQLENYCN\",\n",
    "         \"MALWIRFLPLLALLILWEPRPAQAFVKQHLCGSHLVEALYLVCGERGFFYTPMSRREVEDPQVAQLELGGGPGAGDLQTLALEVARQKRGIVDQCCTSICSLYQLENYCN\",\n",
    "         \"MALWIRSLPLLALLVFSGPGTSYAAANQHLCGSHLVEALYLVCGERGFFYSPKARRDVEQPLVSSPLRGEAGVLPFQQEEYEKVKRGIVEQCCHNTCSLYQLENYCN\"]\n",
    "\n",
    "X = mermatrix(insuline) #Distance matrix \n",
    "dist = linkage(X, method=\"average\")  #average = UPGMA method\n",
    "\n",
    "#fig = plt.figure(figsize=(10, 20))\n",
    "dn = dendrogram(dist, labels = organisms, orientation = \"left\")\n",
    "plt.show()"
   ]
  },
  {
   "cell_type": "markdown",
   "metadata": {
    "id": "_JfsrL845YQC"
   },
   "source": [
    "<h4> Exercise10: Define a function $LZMatrix$ that takes a list of sequences and returns a matrix of distances between them (see Lecture 2, $words\\_comparison$ function). Use this matrix to generate a phylogenetic tree for insuline sequences."
   ]
  },
  {
   "cell_type": "code",
   "execution_count": 53,
   "metadata": {
    "id": "v4aI2NFPpoOc"
   },
   "outputs": [],
   "source": [
    "# exercise 10\n",
    "\n",
    "def WordSeq(seq):\n",
    "    d=[]\n",
    "    l=len(seq)\n",
    "    i=0\n",
    "    k=1\n",
    "    n=0\n",
    "    while i<l:\n",
    "        while seq[i:i+k] in d and i+k<l:#Everytime the word is already in the list, k+=1 -> the function check with the next letter\n",
    "            k+=1\n",
    "        if seq[i:i+k] not in d:     \n",
    "            d.append(seq[i:i+k])  #When the word isn't in d, the loop stops and the word is put into the list\n",
    "        i+=k  #i becomes i+k to start to read again after the words that was already added\n",
    "        k=1#we set again the value of k to 1 so that when the loops start again it start to check if the next letter is in the list    \n",
    "    return d\n",
    "\n",
    "def words_comparison(seq1, seq2):\n",
    "    l1 = len(WordSeq(seq1))\n",
    "    l2 = len(WordSeq(seq2))\n",
    "    l3 = len(WordSeq(seq1+seq2))\n",
    "    C = (l3 - min(l1,l2))/max(l1,l2)\n",
    "    return C\n",
    "\n",
    "def lzmatrix(sequences):\n",
    "    size = len(sequences)\n",
    "    matrix = np.empty([size, size])\n",
    "    for i in range(size):\n",
    "        for j in range(size):\n",
    "            seq1 = sequences[i]\n",
    "            seq2 = sequences[j]\n",
    "            distance = words_comparison(seq1, seq2)\n",
    "\n",
    "            matrix[i][j] = distance\n",
    "    return matrix"
   ]
  },
  {
   "cell_type": "code",
   "execution_count": 57,
   "metadata": {
    "id": "GJaW2M5XqElr"
   },
   "outputs": [
    {
     "data": {
      "image/png": "[encoded data removed]",
      "text/plain": [
       "<Figure size 640x480 with 1 Axes>"
      ]
     },
     "metadata": {},
     "output_type": "display_data"
    }
   ],
   "source": [
    "import numpy as np\n",
    "import matplotlib.pyplot as plt\n",
    "from scipy.cluster.hierarchy import dendrogram, linkage \n",
    "\n",
    "organisms = [\"human\",\"mouse\",\"rat\",\"chicken\"]\n",
    "\n",
    "insuline = [\"MALWMRLLPLLALLALWGPDPAAAFVNQHLCGSHLVEALYLVCGERGFFYTPKTRREAEDLQVGQVELGGGPGAGSLQPLALEGSLQKRGIVEQCCTSICSLYQLENYCN\",\n",
    "         \"MALWMRFLPLLALLFLWESHPTQAFVKQHLCGSHLVEALYLVCGERGFFYTPMSRREVEDPQVAQLELGGGPGAGDLQTLALEVAQQKRGIVDQCCTSICSLYQLENYCN\",\n",
    "         \"MALWIRFLPLLALLILWEPRPAQAFVKQHLCGSHLVEALYLVCGERGFFYTPMSRREVEDPQVAQLELGGGPGAGDLQTLALEVARQKRGIVDQCCTSICSLYQLENYCN\",\n",
    "         \"MALWIRSLPLLALLVFSGPGTSYAAANQHLCGSHLVEALYLVCGERGFFYSPKARRDVEQPLVSSPLRGEAGVLPFQQEEYEKVKRGIVEQCCHNTCSLYQLENYCN\"]\n",
    "\n",
    "X = lzmatrix(insuline) #Distance matrix \n",
    "dist = linkage(X, method=\"average\")  #average = UPGMA method\n",
    "\n",
    "#fig = plt.figure(figsize=(10, 20))\n",
    "dn = dendrogram(dist, labels = organisms, orientation = \"left\")\n",
    "plt.show()"
   ]
  },
  {
   "cell_type": "code",
   "execution_count": null,
   "metadata": {
    "id": "L1JfBp_7rmfG"
   },
   "outputs": [],
   "source": []
  }
 ],
 "metadata": {
  "colab": {
   "provenance": []
  },
  "kernelspec": {
   "display_name": "Python 3 (ipykernel)",
   "language": "python",
   "name": "python3"
  },
  "language_info": {
   "codemirror_mode": {
    "name": "ipython",
    "version": 3
   },
   "file_extension": ".py",
   "mimetype": "text/x-python",
   "name": "python",
   "nbconvert_exporter": "python",
   "pygments_lexer": "ipython3",
   "version": "3.9.13"
  }
 },
 "nbformat": 4,
 "nbformat_minor": 4
}
