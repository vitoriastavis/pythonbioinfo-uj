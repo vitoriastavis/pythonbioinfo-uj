{
 "cells": [
  {
   "cell_type": "markdown",
   "metadata": {},
   "source": [
    "---\n",
    "WBT-MBT2-25E <i>Programming Python for Bioinformatics</i> &copy; 2020-2023 Michal Bukowski (m.bukowski@uj.edu.pl) Department of Analytical Biochemistry, Faculty of Biochemistry, Biophysics and Biotechnology, Jagiellonian University\n",
    "\n",
    "---"
   ]
  },
  {
   "cell_type": "markdown",
   "metadata": {},
   "source": [
    "<p style=\"font-size:15pt;font-weight:bold;border:1px solid;border-color:#aabbcc;padding:15px;background:#ddeeff;border-radius:15px\">Running BLAST tools from Jupyter notebook as Bash commands</p>\n",
    "\n",
    "<font color=\"red\">This Jupyter notebook relies on properly installed BLAST tools and a few Bash commands. If you use Windows, remember to replace `%%bash` magic command with `%%cmd`. Nevertheless, it is the best in Windows to stick to one-liner `!` calls.</font>\n",
    "\n",
    "Regarding problems in Windows, no one does bioinformatics in Windows, simply switch to Linux - the newest version of [Ubuntu LTS](https://ubuntu.com/download/desktop) is highyl reccommended. If you have a weaker computer, you may want to try [Xubuntu LTS](https://xubuntu.org/download).\n",
    "\n",
    "Any time you do not know what to do, plase refer to the <u>lecture presentation and exemplary materials</u>.\n",
    "\n",
    "Before trying to solve any problem, please read the content of each task <u>carefully</u>.\n",
    "\n",
    "Remember that `%magic` `%%commands` works in IPython and it is possible to use them here because Jupyter notebook uses IPython interpreter. Magic commands are not a part of standard Python language and cannot be used in pure Python code and scripts.\n",
    "\n",
    "Running external processes by using Bash or `subprocess` module and giving a malformed command can make Jupyter stop reacting. This means that the external process is still active (you will see never-disappearing `*` next to the Jupyter cell in question). In such a case, you can restart IPython running behind Jupyter by choosing from the menu: `Kernel -> Restart`.\n",
    "\n",
    "Place your code in <u>already existing cells</u>. You may add extra ones for test purposes. You must not change cell order or delete any."
   ]
  },
  {
   "cell_type": "code",
   "execution_count": null,
   "metadata": {},
   "outputs": [],
   "source": [
    "!pwd"
   ]
  },
  {
   "cell_type": "markdown",
   "metadata": {},
   "source": [
    "---\n",
    "<p style=\"font-family:Sans;font-size:12pt;font-weight:bold;padding:10px;margin:0px\">1. Creating a BLAST database</p>\n",
    "\n",
    "First a short reminder. You can run Bash (Linux text shell/command line) code/command by putting in the first line of a cell the magic command `%%bash` (the code from the whole cell is run in Bash then) or by placing `!` straight before one line command, and then you can put Bash commands next to lines with Python code in the same cell. Run the examples below to refresh you knowledge."
   ]
  },
  {
   "cell_type": "code",
   "execution_count": null,
   "metadata": {
    "scrolled": true
   },
   "outputs": [],
   "source": [
    "# Python code\n",
    "\n",
    "print('I\\'m sooooooo happy!')\n",
    "\n",
    "# Bash one-liner:\n",
    "\n",
    "! echo \"I'm happy too :)\"\n"
   ]
  },
  {
   "cell_type": "code",
   "execution_count": null,
   "metadata": {},
   "outputs": [],
   "source": [
    "%%bash\n",
    "\n",
    "# the whole cell is interpreted as Bash code,\n",
    "# no need for exclamation marks\n",
    "\n",
    "bash_var=\"Hello Bash ^^\"\n",
    "\n",
    "echo $bash_var\n"
   ]
  },
  {
   "cell_type": "markdown",
   "metadata": {},
   "source": [
    "---\n",
    "Now it is time for a real job. In the lecture we saw that by the parameter `-query` we may pass to a BLAST tool a path to a FASTA file with a query sequence(es), and by the parameter `-subject` a path to another FASTA file with sequences we want to search. In case we search the same set of sequences multiple times, a better idea is to compile those sequences into a BLAST database.\n",
    "\n",
    "Similarly to running `blastp` text tool in the lecture materials, use `makeblastdb` tool to create a BLAST database. Set `-dbtype` parameter to `prot` (we will work with protein sequences); use `prot` also for `-title`, which is the database name; `-in` parameter to `input/Staphylococcus.fasta`, a file with sequences to be compiled to a database; and `-out` parameter to `dbs/staph` (this will be a path to a directory followed by the name prefix for database files). Run the command in a cell interpreted as a Bash command/code.\n",
    "\n",
    "\n",
    "<p style=\"background:#ffeedd;font-family:Sans;font-size:8pt;font-weight:bold;padding:10px;margin:0px;margin-top:10px\">The output should be similar to:</p>\n",
    "\n",
    "<pre style=\"background:#ddffee;font-family:Monospace;font-size:8pt;padding:10px;margin:0px\">\n",
    "Building a new DB, current time: 05/09/2020 16:07:36\n",
    "New DB name:   /home/user/practicals_02/dbs/staph\n",
    "New DB title:  input/Staphylococcus.fasta\n",
    "Sequence type: Protein\n",
    "Keep MBits: T\n",
    "Maximum file size: 1000000000B\n",
    "Adding sequences from FASTA; added 63914 sequences in 1.11842 seconds.\n",
    "</pre>"
   ]
  },
  {
   "cell_type": "code",
   "execution_count": null,
   "metadata": {
    "scrolled": true
   },
   "outputs": [],
   "source": [
    "%%bash\n",
    "\n",
    "makeblastdb -in 'input/Staphylococcus.fasta' -out 'dbs/staph' -dbtype prot -title prot "
   ]
  },
  {
   "cell_type": "markdown",
   "metadata": {},
   "source": [
    "---\n",
    "<p style=\"font-family:Sans;font-size:12pt;font-weight:bold;padding:10px;margin:0px\">2. A simple protein BLAST search</p>\n",
    "\n",
    "Run a simple search by using `blastp` tool (again in a cell interpreted as Bash command/code). Pass values for <u>two parameters only</u>: `-query` set to `input/queries.fasta` (a file with a few protein sequences); and `-db` set to the same directory path and prefix you used before for creating the protein BLAST database. Running the tool with these two parameters only will print the output on the screen in a human-readable descriptive format.\n",
    "\n",
    "<p style=\"background:#ffeedd;font-family:Sans;font-size:8pt;font-weight:bold;padding:10px;padding-bottom:0px;margin:0px;margin-top:10px\">The output should be similar to:</p>\n",
    "<p style=\"background:#ffeedd;font-family:Sans;font-size:8pt;padding:10px;padding-top:0px;margin:0px\">Paces where parts of the output has been skipped for brevity are marked with (...)</p>\n",
    "\n",
    "<pre style=\"background:#ddffee;font-family:Monospace;font-size:8pt;padding:10px;margin:0px\">\n",
    "BLASTP 2.7.1+\n",
    "(...)\n",
    "                                                                      Score     E\n",
    "Sequences producing significant alignments:                          (Bits)  Value\n",
    "    \n",
    "  prot006124 [organism: Staphylococcus aureus] [strain: VRS7] [as...  240     2e-84\n",
    "  prot006238 [organism: Staphylococcus aureus] [strain: UCIM6147]...  240     2e-84\n",
    "(...)\n",
    "> prot006124 [organism: Staphylococcus aureus] [strain: VRS7] [assembly: \n",
    "GCA_000262935.1]\n",
    "Length=120\n",
    "    \n",
    " Score = 240 bits (613),  Expect = 2e-84, Method: Compositional matrix adjust.\n",
    " Identities = 120/120 (100%), Positives = 120/120 (100%), Gaps = 0/120 (0%)\n",
    "    \n",
    "Query  1    MIRRGDVYLADLSPVQGSEQGGVRPVVIIQNDTGNKYSPTVIVAAITGRINKAKIPTHVE  60\n",
    "            MIRRGDVYLADLSPVQGSEQGGVRPVVIIQNDTGNKYSPTVIVAAITGRINKAKIPTHVE\n",
    "Sbjct  1    MIRRGDVYLADLSPVQGSEQGGVRPVVIIQNDTGNKYSPTVIVAAITGRINKAKIPTHVE  60\n",
    "(...)\n",
    "</pre>"
   ]
  },
  {
   "cell_type": "code",
   "execution_count": null,
   "metadata": {},
   "outputs": [],
   "source": [
    "! blastp -query 'input/queries.fasta' -db 'dbs/staph' "
   ]
  },
  {
   "cell_type": "markdown",
   "metadata": {},
   "source": [
    "---\n",
    "<p style=\"font-family:Sans;font-size:12pt;font-weight:bold;padding:10px;margin:0px\">3. Setting the BLAST output format to TSV</p>\n",
    "\n",
    "First a piece of useful information. To pass Python variables to a cell that is run as Bash code you may use the following modification of `%%bash` magic command. Run the example below to see how it works."
   ]
  },
  {
   "cell_type": "code",
   "execution_count": null,
   "metadata": {},
   "outputs": [],
   "source": [
    "# a cell with standard Python code and\n",
    "# a variable declaration\n",
    "\n",
    "python_var = 'Hello world xd'\n"
   ]
  },
  {
   "cell_type": "code",
   "execution_count": null,
   "metadata": {
    "scrolled": true
   },
   "outputs": [],
   "source": [
    "%%bash -s \"$python_var\"\n",
    "\n",
    "# this is a cell with Bash code,\n",
    "# each Python variable passed\n",
    "# after -s parameter, as above,\n",
    "# is accessible by a numbered\n",
    "# reference: ${1}, ${2}, etc.\n",
    "\n",
    "echo \"Hi, it's me, Bash. Python says: ${1}\"\n"
   ]
  },
  {
   "cell_type": "markdown",
   "metadata": {},
   "source": [
    "---\n",
    "Now it is again time for a real job. First assign to a Python variable `name` column names separated by spaces that make `blastp` to return:\n",
    "1. query sequence id\n",
    "1. subject sequence id\n",
    "1. query coverage by subject\n",
    "1. alignment start in the subject\n",
    "1. alignment end in the subject\n",
    "1. subject length\n",
    "1. E-value for the query-subject match"
   ]
  },
  {
   "cell_type": "code",
   "execution_count": null,
   "metadata": {},
   "outputs": [],
   "source": [
    "# TODO: place your code here\n",
    "names = '6 qseqid sseqid qcovs sstart send slen evalue'\n"
   ]
  },
  {
   "cell_type": "markdown",
   "metadata": {},
   "source": [
    "---\n",
    "Using `%%bash` magic command, run the same `blastp` search as before but this time, next to `-query` and `-db`, add `-outfmt` parameter to make `blastp` return the results as tab-separated values (TSV) with columns defined in the Python variable `names`.\n",
    "\n",
    "<p style=\"background:#ffeedd;font-family:Sans;font-size:8pt;font-weight:bold;padding:10px;padding-bottom:0px;margin:0px;margin-top:10px\">The output should be similar to:</p>\n",
    "\n",
    "<pre style=\"background:#ddffee;font-family:Monospace;font-size:8pt;padding:10px;margin:0px\">\n",
    "MazF-Sa\tprot006124  100  1  120  120  1.96e-84\n",
    "MazF-Sa\tprot006238  100  1  120  120  1.96e-84\n",
    "MazF-Sa\tprot012809  99   1  119  120  2.88e-75\n",
    "MazF-Sa\tprot002396  88   6  105  120  3.92e-09\n",
    "MazF-Sa\tprot005692  93   1  110  110  1.66e-06\n",
    "MazF-Sa\tprot001607  68   3  80   111  1.17e-04\n",
    "(...)\n",
    "</pre>"
   ]
  },
  {
   "cell_type": "code",
   "execution_count": null,
   "metadata": {
    "scrolled": true
   },
   "outputs": [],
   "source": [
    "%%bash -s \"$names\"\n",
    "\n",
    "blastp -query 'input/queries.fasta' -db 'dbs/staph' -outfmt \"${1}\""
   ]
  },
  {
   "cell_type": "markdown",
   "metadata": {},
   "source": [
    "---\n",
    "To capture what `blastp` shows on the screen to a variable `var_name` you can add `%%capture var_name` magic command before `%%bash` one. The `var_name` will be an object with properties, which are string variables, such as `stdout` and `stderr`. The former is the output printed on the screen, the latter error messages (if something went wrong). Run the example below to see how it works."
   ]
  },
  {
   "cell_type": "code",
   "execution_count": null,
   "metadata": {},
   "outputs": [],
   "source": [
    "%%capture out\n",
    "%%bash\n",
    "\n",
    "echo \"Hey dude!\"\n"
   ]
  },
  {
   "cell_type": "code",
   "execution_count": null,
   "metadata": {},
   "outputs": [],
   "source": [
    "print(f'Size of standard output: {len(out.stdout)}')\n",
    "print(f'Size of standard error: {len(out.stderr)}\\n')\n",
    "\n",
    "print(out.stdout)\n"
   ]
  },
  {
   "cell_type": "markdown",
   "metadata": {},
   "source": [
    "---\n",
    "Now run exactly the same BLAST search as before, but this time capture the output to a variable `out` instead of letting it be printed on the screen.\n",
    "\n"
   ]
  },
  {
   "cell_type": "code",
   "execution_count": null,
   "metadata": {},
   "outputs": [],
   "source": [
    "%%capture out\n",
    "%%bash -s \"$names\"\n",
    "\n",
    "blastp -query 'input/queries.fasta' -db 'dbs/staph' -outfmt \"${1}\""
   ]
  },
  {
   "cell_type": "markdown",
   "metadata": {},
   "source": [
    "---\n",
    "Now split the `out.stdout` string variable into lines (treat the end of line character `\\n` as separator) and print first 5 lines on the screen by using a for-loop.\n",
    "\n",
    "<p style=\"background:#ffeedd;font-family:Sans;font-size:8pt;font-weight:bold;padding:10px;padding-bottom:0px;margin:0px;margin-top:10px\">The output should be similar to:</p>\n",
    "\n",
    "<pre style=\"background:#ddffee;font-family:Monospace;font-size:8pt;padding:10px;margin:0px\">\n",
    "MazF-Sa\tprot006124  100  1  120  120  1.96e-84\n",
    "MazF-Sa\tprot006238  100  1  120  120  1.96e-84\n",
    "MazF-Sa\tprot012809  99   1  119  120  2.88e-75\n",
    "MazF-Sa\tprot002396  88   6  105  120  3.92e-09\n",
    "MazF-Sa\tprot005692  93   1  110  110  1.66e-06\n",
    "</pre>"
   ]
  },
  {
   "cell_type": "code",
   "execution_count": null,
   "metadata": {
    "scrolled": true
   },
   "outputs": [],
   "source": [
    "output = out.stdout\n",
    "output = output.split(\"\\n\")\n",
    "\n",
    "for i in range(5):\n",
    "    print(output[i])"
   ]
  },
  {
   "cell_type": "markdown",
   "metadata": {},
   "source": [
    "---\n",
    "Now instead of capturing the output add to the `blastp` command you used above yet another parameter `-out` to ask `blastp` to save the output in the format of tab-separated values to the file `output/blast.tsv`."
   ]
  },
  {
   "cell_type": "code",
   "execution_count": null,
   "metadata": {},
   "outputs": [],
   "source": [
    "%%bash -s \"$names\"\n",
    "\n",
    "blastp -query 'input/queries.fasta' -db 'dbs/staph' -outfmt \"${1}\" -out 'output/blast.tsv'"
   ]
  },
  {
   "cell_type": "markdown",
   "metadata": {},
   "source": [
    "Run the following Bash one-line command to see the first 5 lines of the file. These lines should be exactly the same as those printed before on the screen."
   ]
  },
  {
   "cell_type": "code",
   "execution_count": null,
   "metadata": {},
   "outputs": [],
   "source": [
    "! head -5 output/blast.tsv\n"
   ]
  },
  {
   "cell_type": "markdown",
   "metadata": {},
   "source": [
    "<p style=\"font-size:15pt;font-weight:bold;border:1px solid;border-color:#aabbcc;padding:15px;background:#ddeeff;border-radius:15px\">Running BLAST tools from Python code</p>"
   ]
  },
  {
   "cell_type": "markdown",
   "metadata": {},
   "source": [
    "From module `subprocess` import `Popen` and `PIPE`.\n"
   ]
  },
  {
   "cell_type": "code",
   "execution_count": null,
   "metadata": {},
   "outputs": [],
   "source": [
    "from subprocess import Popen, PIPE"
   ]
  },
  {
   "cell_type": "markdown",
   "metadata": {},
   "source": [
    "Just in case we will redeclare the variable `names`.\n"
   ]
  },
  {
   "cell_type": "code",
   "execution_count": null,
   "metadata": {},
   "outputs": [],
   "source": [
    "names = 'qseqid sseqid qcovs sstart send slen evalue'"
   ]
  },
  {
   "cell_type": "markdown",
   "metadata": {},
   "source": [
    "---\n",
    "Now run exactly the `blastp` command with just three parameters: `-outfmt`, `-db` and `-query` using pure Python code and `subprocess` module. Print the captured `stdout` on the screen.\n",
    "\n",
    "<p style=\"background:#ffeedd;font-family:Sans;font-size:8pt;font-weight:bold;padding:10px;padding-bottom:0px;margin:0px;margin-top:10px\">The output should be similar to:</p>\n",
    "\n",
    "<pre style=\"background:#ddffee;font-family:Monospace;font-size:8pt;padding:10px;margin:0px\">\n",
    "MazF-Sa\tprot006124  100  1  120  120  1.96e-84\n",
    "MazF-Sa\tprot006238  100  1  120  120  1.96e-84\n",
    "MazF-Sa\tprot012809  99   1  119  120  2.88e-75\n",
    "MazF-Sa\tprot002396  88   6  105  120  3.92e-09\n",
    "MazF-Sa\tprot005692  93   1  110  110  1.66e-06\n",
    "</pre>"
   ]
  },
  {
   "cell_type": "code",
   "execution_count": null,
   "metadata": {
    "scrolled": true
   },
   "outputs": [],
   "source": [
    "args = [\n",
    "    'blastp', '-outfmt', f'6 {names}', \n",
    "    '-query', 'input/queries.fasta', \n",
    "    '-db', 'dbs/staph'\n",
    "]\n",
    "\n",
    "pipe = Popen(args, stdout=PIPE, stderr=PIPE)\n",
    "\n",
    "stdout, stderr = pipe.communicate()\n",
    "print(stdout.decode())"
   ]
  },
  {
   "cell_type": "markdown",
   "metadata": {},
   "source": [
    "---\n",
    "Try to run the same `subprocess` command as above but remove the parameter `-db`. Next print to the screen the length of `stdout` and `stderr` and the content of both of them. You should see that `blastp` threw an error."
   ]
  },
  {
   "cell_type": "code",
   "execution_count": null,
   "metadata": {},
   "outputs": [],
   "source": [
    "args = [\n",
    "    'blastp', '-outfmt', f'6 {names}',\n",
    "    '-query', 'input/queriesXXX.fasta', \n",
    "]\n",
    "\n",
    "pipe = Popen(args, stdout=PIPE, stderr=PIPE)\n",
    "\n",
    "stdout, stderr = pipe.communicate()\n",
    "\n",
    "print(f'Size of standard output: {len(stdout)}')\n",
    "print(f'Size of standard error: {len(stderr)}\\n')\n",
    "\n",
    "print(stdout)\n",
    "print(stderr)"
   ]
  },
  {
   "cell_type": "markdown",
   "metadata": {},
   "source": [
    "---\n",
    "When BLAST tools are not given `-query` parameter, they try to read the query sequence from `stdin` (standard input), which by default is the keyboard. However, using `subprocess` module you can redirect to `stdin` a content of a Python string variable. You need to convert such a variable to `bytes` first by using the string method `encode()`.\n",
    "\n",
    "First run the cells below to declare values for sequence id and its sequence."
   ]
  },
  {
   "cell_type": "code",
   "execution_count": null,
   "metadata": {},
   "outputs": [],
   "source": [
    "seqid = 'MazF-Sa1'\n",
    "\n",
    "sequence = 'MIRRGDVYLADLSPVQGSEQGGVRPVVIIQNDTGNKYSPTVIVAAITGRINKAKIPTHVE' + \\\n",
    "      'IEKKKYKLDKDSVILLEQIRTLDKKRLKEKLTYLSDDKMKEVDNALMISLGLNAVAHQKN'\n"
   ]
  },
  {
   "cell_type": "markdown",
   "metadata": {},
   "source": [
    "Now declare `seq` variable and its value as a proper FASTA format string incorporating two variables declared in the cell above. The nicest way is to use f-strings."
   ]
  },
  {
   "cell_type": "code",
   "execution_count": null,
   "metadata": {},
   "outputs": [],
   "source": [
    "seq = f\">{seqid}\\n{sequence}\"\n",
    "\n",
    "print(seq)"
   ]
  },
  {
   "cell_type": "markdown",
   "metadata": {},
   "source": [
    "Next, using `subprocess` run `blastp` command <u>without</u> `-query` parameter. However:\n",
    "- when you call `Popen` add and extra argument indicating that you want to crate a pipe also for `stdin`,\n",
    "- when you call `pipe.communicate()` give the method call an argument `input` and assign to it the `seq.encode()`, which is our string with a sequence in FASTA format converted into `byes`\n",
    "\n",
    "Print the decoded `stdout` on the screen."
   ]
  },
  {
   "cell_type": "code",
   "execution_count": null,
   "metadata": {},
   "outputs": [],
   "source": [
    "names = 'qseqid sseqid qcovs sstart send slen evalue'"
   ]
  },
  {
   "cell_type": "code",
   "execution_count": null,
   "metadata": {},
   "outputs": [],
   "source": [
    "args = [\n",
    "    'blastp', '-outfmt', f'6 {names}',\n",
    "    '-db', 'dbs/staph'\n",
    "]\n",
    "\n",
    "pipe = Popen(args, stdin=PIPE, stdout=PIPE, stderr=PIPE)\n",
    "\n",
    "stdout, stderr = pipe.communicate(input=seq.encode())\n",
    "print(stdout.decode())"
   ]
  },
  {
   "cell_type": "markdown",
   "metadata": {},
   "source": [
    "<p style=\"font-size:15pt;font-weight:bold;border:1px solid;border-color:#aabbcc;padding:15px;background:#ddeeff;border-radius:15px\">Processing BLAST results with Pandas</p>"
   ]
  },
  {
   "cell_type": "markdown",
   "metadata": {},
   "source": [
    "Import `pandas` as `pd` and `numpy` as `np`.\n",
    "\n",
    "Import `Popen` and `PIPE` from `subprocess`, and import `StringIO` from `io`.\n"
   ]
  },
  {
   "cell_type": "code",
   "execution_count": null,
   "metadata": {},
   "outputs": [],
   "source": [
    "import pandas as pd\n",
    "import numpy as np\n",
    "from subprocess import Popen, PIPE\n",
    "from io import StringIO"
   ]
  },
  {
   "cell_type": "markdown",
   "metadata": {},
   "source": [
    "Just in case we will redeclare the variable `names`.\n"
   ]
  },
  {
   "cell_type": "code",
   "execution_count": null,
   "metadata": {},
   "outputs": [],
   "source": [
    "names = 'qseqid sseqid qcovs sstart send slen evalue'"
   ]
  },
  {
   "cell_type": "markdown",
   "metadata": {},
   "source": [
    "---\n",
    "Load data from the file `output/blast.tsv` containing your BLAST results to a DataFrame object referenced by `df`. Remember to indicate that:\n",
    "- you do <u>not</u> want to use the first column as index,\n",
    "- there are <u>not</u> column names in the file,\n",
    "- the column names are in the list obtained by splitting the string variable `names`,\n",
    "- the separator is the tab character.\n",
    "\n",
    "Print the first 5 rows by using a proper DataFrame method.\n"
   ]
  },
  {
   "cell_type": "code",
   "execution_count": null,
   "metadata": {},
   "outputs": [],
   "source": [
    "names_list = names.split(' ')\n",
    "names_list"
   ]
  },
  {
   "cell_type": "code",
   "execution_count": null,
   "metadata": {
    "scrolled": true
   },
   "outputs": [],
   "source": [
    "df = pd.read_csv('output/blast.tsv', names=names_list, sep='\\t')"
   ]
  },
  {
   "cell_type": "code",
   "execution_count": null,
   "metadata": {},
   "outputs": [],
   "source": [
    "df.head()"
   ]
  },
  {
   "cell_type": "markdown",
   "metadata": {},
   "source": [
    "---\n",
    "Loading DataFrame from a file is one thing. You may load it directly from the captured BLAST text output without the necessity of saving it to a file.\n",
    "\n",
    "Using `subprocess` run again `blastp` and pass values for `-outfmt`, `-query`, `-db`. Capture the `stdout` and `stderr` by creating a pipe."
   ]
  },
  {
   "cell_type": "code",
   "execution_count": null,
   "metadata": {},
   "outputs": [],
   "source": [
    "args = [\n",
    "    'blastp', '-outfmt', f'6 {names}', \n",
    "    '-query', 'input/queries.fasta', \n",
    "    '-db', 'dbs/staph'\n",
    "]\n",
    "\n",
    "pipe = Popen(args, stdout=PIPE, stderr=PIPE)\n",
    "\n",
    "stdout, stderr = pipe.communicate()"
   ]
  },
  {
   "cell_type": "markdown",
   "metadata": {},
   "source": [
    "Now convert `stdout` decoded into a string variable into a `StringIO` referenced by `res`. To do the conversion, simply call `StringIO` as a function and pass <u>decoded</u> `stdout` as an argument. `StringIO` is a string container simulating a file. Pass the reference `res` to DataFrame loading method instead the path to a file.\n",
    "\n",
    "Again, print the first 5 rows by using a proper DataFrame method. You should see the same result.\n"
   ]
  },
  {
   "cell_type": "code",
   "execution_count": null,
   "metadata": {
    "scrolled": true
   },
   "outputs": [],
   "source": [
    "res = StringIO(stdout.decode())\n",
    "\n",
    "df_res = pd.read_csv(res, names=names_list, sep='\\t')"
   ]
  },
  {
   "cell_type": "markdown",
   "metadata": {},
   "source": [
    "Look up the total number of rows in your DataFrame.\n"
   ]
  },
  {
   "cell_type": "code",
   "execution_count": null,
   "metadata": {},
   "outputs": [],
   "source": [
    "len(df_res)"
   ]
  },
  {
   "cell_type": "markdown",
   "metadata": {},
   "source": [
    "Using the proper DataFrame method print a summary on the columns that contain numeric values.\n"
   ]
  },
  {
   "cell_type": "code",
   "execution_count": null,
   "metadata": {
    "scrolled": true
   },
   "outputs": [],
   "source": [
    "df_res.describe()"
   ]
  },
  {
   "cell_type": "markdown",
   "metadata": {},
   "source": [
    "Using mathematical expression in `numpy` style and `np.abs()` method, create a new column `scovq`, which will express the subject coverage by query, calculated as:\n",
    "\n",
    "$$scovq = \\frac { \\left | send ~ - ~ sstart \\right | ~ + ~ 1 } {slen} \\cdot 100.0$$\n",
    "\n",
    "Print the first 5 rows of the modified DataFrame to see the new column `scovq`."
   ]
  },
  {
   "cell_type": "code",
   "execution_count": null,
   "metadata": {},
   "outputs": [],
   "source": [
    "df_res['scovq'] = (np.abs(df_res['send'] - df_res['sstart'])+1)/df_res['slen']*100"
   ]
  },
  {
   "cell_type": "code",
   "execution_count": null,
   "metadata": {},
   "outputs": [],
   "source": [
    "df_res['scovq']"
   ]
  },
  {
   "cell_type": "markdown",
   "metadata": {},
   "source": [
    "Filter the DataFrame `df` to retain only rows for which `qcovs` and `scovq` are greater or equal to 90.0.\n",
    "\n",
    "Look up the whole DataFrame.\n"
   ]
  },
  {
   "cell_type": "code",
   "execution_count": null,
   "metadata": {},
   "outputs": [],
   "source": [
    "df_res[(df_res['scovq']>=90.0) & (df_res['qcovs'] >= 90.0)]"
   ]
  },
  {
   "cell_type": "markdown",
   "metadata": {},
   "source": [
    "Filter the DataFrame further to retain only one best (of lowest E-value) match for each query. You may do it by sorting `df` by values of the column expressing the statistical significance of a mach, and then by removing duplicates (which by default leaves the first row) in respect to the column containing identifiers for query sequences. Ignore Pandas warnings if any appears.\n",
    "\n",
    "Look up the whole DataFrame."
   ]
  },
  {
   "cell_type": "code",
   "execution_count": null,
   "metadata": {
    "scrolled": true
   },
   "outputs": [],
   "source": [
    "df_res.sort_values('evalue').drop_duplicates('qseqid')"
   ]
  },
  {
   "cell_type": "markdown",
   "metadata": {},
   "source": [
    "Continue with a skimmed DataFrame by selecting from the original one only the following columns in the given order: `qseqid`, `sseqid`, `qcovs`, `scovq`, `evalue`.\n",
    "\n",
    "Sort the DataFrame by the query sequence identifier and subsequently reset the DataFrame index and drop the old one. Ignore Pandas warnings if any appears.\n",
    "\n",
    "Look up the whole DataFrame again. Compare the number of rows with the initial one.\n",
    "\n",
    "<p style=\"background:#ffeedd;font-family:Sans;font-size:8pt;font-weight:bold;padding:10px;padding-bottom:0px;margin:0px;margin-top:10px\">Your final DataFrame should look like this:</p>\n",
    "\n",
    "<pre style=\"background:#ddffee;font-family:Monospace;font-size:8pt;padding:10px;margin:0px\">\n",
    "       qseqid      sseqid qcovs       scovq        evalue\n",
    "0     MazF-Sa  prot006124   100  100.000000  1.960000e-84\n",
    "1    PemK-Sa1  prot001607    98   99.099099  9.610000e-62\n",
    "2    PemK-Sa2  prot002310    93   96.460177  2.020000e-08\n",
    "3    PemK-Sa3  prot001607    99   95.495495  6.100000e-08\n",
    "4    PemK-Sa4  prot002310   100  100.000000  4.190000e-82\n",
    "5    PemK-Sa5  prot002396   100  100.000000  2.080000e-87\n",
    "6    PemK-Sa6  prot000500   100  100.000000  1.190000e-74\n",
    "7   PemK-Scap  prot001607    95   94.594595  5.880000e-38\n",
    "8   PemK-Scar  prot005692    97  100.000000  3.720000e-28\n",
    "9   PemK-Smic  prot001607    95    94.59459  5.310000e-33\n",
    "10  PemK-Swar  prot005692   100  100.000000  3.960000e-78\n",
    "</pre>"
   ]
  },
  {
   "cell_type": "code",
   "execution_count": null,
   "metadata": {
    "scrolled": true
   },
   "outputs": [],
   "source": [
    "df_new = df_res[['qseqid', 'sseqid', 'qcovs', 'scovq', 'evalue']]\n",
    "df_new = df_new.sort_values('qseqid').drop_duplicates('qseqid')"
   ]
  },
  {
   "cell_type": "markdown",
   "metadata": {},
   "source": [
    "Save the filtered DataFrame to a TSV file `output/blast_filtered.tsv` without the row index.\n"
   ]
  },
  {
   "cell_type": "code",
   "execution_count": null,
   "metadata": {},
   "outputs": [],
   "source": [
    "df_new.to_csv('output/blast_filtered.tsv', sep=\"\\t\", index=False)"
   ]
  },
  {
   "cell_type": "markdown",
   "metadata": {},
   "source": [
    "To verify that everything is ok, print the whole content of the file on the screen by using `cat` Bash command or do it in Python if you prefer.\n"
   ]
  },
  {
   "cell_type": "code",
   "execution_count": null,
   "metadata": {},
   "outputs": [],
   "source": [
    "! cat output/blast_filtered.tsv"
   ]
  },
  {
   "cell_type": "markdown",
   "metadata": {},
   "source": [
    "<p style=\"font-size:15pt;font-weight:bold;border:1px solid;border-color:#aabbcc;padding:15px;background:#ddeeff;border-radius:15px\">The End :)</p>"
   ]
  },
  {
   "cell_type": "code",
   "execution_count": null,
   "metadata": {},
   "outputs": [],
   "source": []
  }
 ],
 "metadata": {
  "kernelspec": {
   "display_name": "Python 3 (ipykernel)",
   "language": "python",
   "name": "python3"
  },
  "language_info": {
   "codemirror_mode": {
    "name": "ipython",
    "version": 3
   },
   "file_extension": ".py",
   "mimetype": "text/x-python",
   "name": "python",
   "nbconvert_exporter": "python",
   "pygments_lexer": "ipython3",
   "version": "3.9.13"
  }
 },
 "nbformat": 4,
 "nbformat_minor": 4
}
