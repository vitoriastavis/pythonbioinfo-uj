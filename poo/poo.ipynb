{
 "cells": [
  {
   "cell_type": "code",
   "execution_count": 15,
   "id": "9014e373-3cde-484a-9e7a-15df207ba5cf",
   "metadata": {},
   "outputs": [],
   "source": [
    "class Square:\n",
    "    \n",
    "    def __init__(self, side=2.0):\n",
    "        self.side=side\n",
    "        \n",
    "    def calc_area(self):\n",
    "        return self.side*self.side\n"
   ]
  },
  {
   "cell_type": "code",
   "execution_count": 16,
   "id": "d2677cae-e647-4580-a9bd-78b0a48b28c7",
   "metadata": {},
   "outputs": [],
   "source": [
    "square = Square(7465)"
   ]
  },
  {
   "cell_type": "code",
   "execution_count": 17,
   "id": "60a37e7a-3f28-4a97-841e-8105a563aea8",
   "metadata": {},
   "outputs": [
    {
     "data": {
      "text/plain": [
       "55726225"
      ]
     },
     "execution_count": 17,
     "metadata": {},
     "output_type": "execute_result"
    }
   ],
   "source": [
    "square.calc_area()"
   ]
  },
  {
   "cell_type": "code",
   "execution_count": null,
   "id": "1d7030fd-3213-4ce2-8c95-59c9f9e6a346",
   "metadata": {},
   "outputs": [],
   "source": []
  }
 ],
 "metadata": {
  "kernelspec": {
   "display_name": "Python 3 (ipykernel)",
   "language": "python",
   "name": "python3"
  },
  "language_info": {
   "codemirror_mode": {
    "name": "ipython",
    "version": 3
   },
   "file_extension": ".py",
   "mimetype": "text/x-python",
   "name": "python",
   "nbconvert_exporter": "python",
   "pygments_lexer": "ipython3",
   "version": "3.9.13"
  }
 },
 "nbformat": 4,
 "nbformat_minor": 5
}
