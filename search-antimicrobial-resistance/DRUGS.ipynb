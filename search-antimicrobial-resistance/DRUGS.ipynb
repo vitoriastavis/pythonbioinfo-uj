{
 "cells": [
  {
   "cell_type": "markdown",
   "id": "a8f4d8b9-ea15-46aa-8039-bd147bca8a6c",
   "metadata": {},
   "source": [
    "---\n",
    "WBT-MBT2-25E <i>Programming Python for Bioinformatics</i> &copy; 2021-2023 Michal Bukowski (m.bukowski@uj.edu.pl) Department of Analytical Biochemistry, Faculty of Biochemistry, Biophysics and Biotechnology, Jagiellonian University\n",
    "\n",
    "---"
   ]
  },
  {
   "cell_type": "markdown",
   "id": "d7d2dafe-88f9-4020-b251-71e2a64f77e9",
   "metadata": {},
   "source": [
    "<p style=\"font-size:15pt;font-weight:bold;border:1px solid;border-color:#aabbcc;padding:15px;background:#ddffee;border-radius:15px\">Mini project: search for antimicrobial resistance (AMR) determinants</p>"
   ]
  },
  {
   "cell_type": "markdown",
   "id": "a897c244-4d5f-494e-bd16-39b0c4bbf157",
   "metadata": {},
   "source": [
    "Your task is to deliver a well-structured code that, given a whole genome sequence of an <i>S. aureus</i> strain, determines what antimicrobial resistance (AMR) determinant are coded in it. The data provided are:\n",
    "\n",
    "    ├── lib\n",
    "    │   └── orfs.py\n",
    "    ├── genomes\n",
    "    │   ├── ...\n",
    "    │   └── GCA_001019205.2_genomic.fna\n",
    "    ├── input\n",
    "    │   └── drugs.faa\n",
    "    └── DRUGS.ipynb\n",
    "\n",
    "1. In the file `lib/orfs.py` a few useful functions are implemented. Open and study it.\n",
    "1. In the directory `genomes` you have fasta format files with example genomes, for which you need to determine ST and CC. First you will use one of them (`GCA_001019205.2_genomic.fna`) to prepare a working code. Then you will analyse the rest.\n",
    "1. The file `input/drugs.faa` is a fasta format file with protein sequences of selected AMR determinants (obtained from [CARD](https://card.mcmaster.ca/) database).\n",
    "1. `DRUGS.ipynb` is this notebook :)\n",
    "\n",
    "You may decide about the way you will implement the solution. However, I provided below some suggestions you may follow. Triple comment character `###` is a placeholder for your code.\n",
    "\n",
    "Should you have any questions, please get in touch with me on MS Teams chat."
   ]
  },
  {
   "cell_type": "markdown",
   "id": "6abb020f-ac1d-46d5-8a42-6d5f6801abce",
   "metadata": {},
   "source": [
    "<p style=\"font-size:15pt;font-weight:bold;border:1px solid;border-color:#aabbcc;padding:15px;background:#ddeeff;border-radius:15px\">1. Set up the environment</p>\n",
    "\n",
    "Import necessary libraries and define `BLAST_COLS` constant as a string variable with desirable column names separated with space.\n",
    "\n",
    "From your custom library `lib.orfs` (`orfs.py` file in the `lib` directory) import two functions you will need to search for all possible open reading frames (ORFs) of a given minimal length in nucleotide sequences (`find_orfs(seq)`) and translating those ORFs into protein sequences (`translate(seq)`)."
   ]
  },
  {
   "cell_type": "code",
   "execution_count": null,
   "id": "786e6c7d-bd84-4c7d-829c-3b0874a79b9f",
   "metadata": {},
   "outputs": [],
   "source": [
    "import numpy as np\n",
    "import pandas as pd\n",
    "from io import StringIO\n",
    "from subprocess import Popen, PIPE\n",
    "from lib.orfs import find_orfs, translate"
   ]
  },
  {
   "cell_type": "markdown",
   "id": "18368ada-cc69-4e8a-8c4b-f76708df131c",
   "metadata": {},
   "source": [
    "Regarding columns values for which are returned by BLAST tools, you will need:\n",
    "- query sequence id\n",
    "- query length\n",
    "- query start\n",
    "- query end\n",
    "- subject sequence id\n",
    "- percent of similar positions in an alignment (sequence similarity)"
   ]
  },
  {
   "cell_type": "code",
   "execution_count": null,
   "id": "8c743662-a09c-4e6c-b499-f11f223b111f",
   "metadata": {},
   "outputs": [],
   "source": [
    "BLAST_COLS = \"6 qsedid qlen qstart send sseqid \""
   ]
  },
  {
   "cell_type": "markdown",
   "id": "bdf2851d-6ccf-4e14-80e3-e8e25312e0ee",
   "metadata": {},
   "source": [
    "<p style=\"font-size:15pt;font-weight:bold;border:1px solid;border-color:#aabbcc;padding:15px;background:#ddeeff;border-radius:15px\">2. Read FASTA files</p>\n",
    "\n",
    "Implement a function that given a file path reads sequences from a FASTA file into a dictionary. Sequnence ids will be the dictionary keys and sequecnes its values. Sequences must not contain end of line (EOL) characters. <br>\n",
    "\n",
    "```\n",
    "read_fasta(path) -> dict[seqid]->seq\n",
    "```"
   ]
  },
  {
   "cell_type": "code",
   "execution_count": null,
   "id": "eb32c79e-09ea-4025-ba9a-961bf512cb2e",
   "metadata": {},
   "outputs": [],
   "source": [
    "def read_fasta(fpath):\n",
    "    seqs = {}\n",
    "    ###\n",
    "    return seqs"
   ]
  },
  {
   "cell_type": "markdown",
   "id": "a036523d-f3a9-4483-b520-b384b82f5aa8",
   "metadata": {},
   "source": [
    "Run the code below to test the function. The output should look like this:\n",
    "```\n",
    "dict_keys(['CP026953.1', 'CP026954.1', 'CP026955.1', 'CP026956.1'])\n",
    "GTAACCATTC\n",
    "```"
   ]
  },
  {
   "cell_type": "code",
   "execution_count": null,
   "id": "d624dcd7-04b8-472b-adc7-fa0ef1a1e7a0",
   "metadata": {},
   "outputs": [],
   "source": [
    "# read sequences from a test file\n",
    "seqs = read_fasta('genomes/GCA_001019205.2_genomic.fna')\n",
    "\n",
    "# print the doctionary keys (seqids)\n",
    "print(seqs.keys())\n",
    "\n",
    "# print first 10 characters of a selected sequence\n",
    "print(seqs['CP026953.1'][:10])"
   ]
  },
  {
   "cell_type": "markdown",
   "id": "da55cc8c-9d28-490b-a176-86de6e814c98",
   "metadata": {},
   "source": [
    "<p style=\"font-size:15pt;font-weight:bold;border:1px solid;border-color:#aabbcc;padding:15px;background:#ddeeff;border-radius:15px\">3. Search for ORFs</p>\n",
    "\n",
    "Using the imported function `find_orfs()` find all possible ORFs of length of at least `300 nt` in sequence `seqs['CP026953.1']`. Since the function is actually a generator (executes lazily, once iterated over or converted into a collection), you need to convert the output into a list. The output here should be:\n",
    "\n",
    "```\n",
    "ATGTTAAAACTTTCATTTAAAAAGATTACG\n",
    "```"
   ]
  },
  {
   "cell_type": "code",
   "execution_count": null,
   "id": "4e23b4bb-40b6-4936-8704-234ea5b781c5",
   "metadata": {},
   "outputs": [],
   "source": [
    "orfs = list( ### )\n",
    "print( orfs[0][:30] )"
   ]
  },
  {
   "cell_type": "markdown",
   "id": "81869daf-141e-4b5b-b599-20d7f05725e3",
   "metadata": {},
   "source": [
    "<p style=\"font-size:15pt;font-weight:bold;border:1px solid;border-color:#aabbcc;padding:15px;background:#ddeeff;border-radius:15px\">4. Convert translated ORFs into FASTA-formated string</p>\n",
    "\n",
    "First implement the function `create_fasta()`, which takes a sequence id and a sequence and returns a FASTA-formated string with 60-character lines.\n",
    "\n",
    "```\n",
    "create_fasta(seqid, seq) -> string (sequence in FASTA format)\n",
    "```"
   ]
  },
  {
   "cell_type": "code",
   "execution_count": null,
   "id": "0b608a56-ee12-484d-8f4d-81efdfd5e46c",
   "metadata": {},
   "outputs": [],
   "source": [
    "def ###\n",
    "    ###"
   ]
  },
  {
   "cell_type": "markdown",
   "id": "7079e611-9f44-43ad-8def-6c1fccb3996d",
   "metadata": {},
   "source": [
    "Test the function. The output should look like this:\n",
    "\n",
    "```\n",
    ">seq0000\n",
    "ATGCTGGATGCCAAATGCTGGATGCCAAATGCTGGATGCCAAATGCTGGATGCCAAATGC\n",
    "TGGATGCCAAATGCTGGATGCCAAATGCTGGATGCCAAATGCTGGATGCCAAATGCTGGA\n",
    "TGCCAAATGCTGGATGCCAA\n",
    "```"
   ]
  },
  {
   "cell_type": "code",
   "execution_count": null,
   "id": "e4a18caa-73b3-4395-97ed-c8d45cbfe2f5",
   "metadata": {},
   "outputs": [],
   "source": [
    "print( create_fasta('seq0000', 'ATGCTGGATGCCAA' * 10) )"
   ]
  },
  {
   "cell_type": "markdown",
   "id": "743243dc-aaf6-463e-a42e-9ce45787b0f7",
   "metadata": {},
   "source": [
    "Now define the function `fasta_orfs()` that will utilse previously defined `create_fasta()` and imported `translate()` to convert the whole list `orfs` of opean reading frame <u>nucleotide</u> sequences into a multiple sequence FASTA-formated string of their translations, i.e. <u>protein</u> sequences.\n",
    "\n",
    "Regarding sequence ids, generate them based on subsequent list indices using an f-string, e.g. `f'seq{i:04d}'`.\n",
    "\n",
    "```\n",
    "fasta_orfs(orfs) {translate(); create_fasta()} -> string (multiple sequences in FASTA format) \n",
    "```\n",
    "\n",
    "<font color=\"bb0000\">A special challenge for you</font>: you may use a `for`-loop to iterate over `orfs`, the implementation details are entirely up to you. <u>However</u> it is possible to implement everything in one line using a list comprehension and the `enumerate()` built-in function. Good luck :D"
   ]
  },
  {
   "cell_type": "code",
   "execution_count": null,
   "id": "69a16e36-4773-437f-957d-9510ac9d0d1e",
   "metadata": {},
   "outputs": [],
   "source": [
    "def fasta_orfs(orfs):\n",
    "    fasta = ###\n",
    "    return fasta"
   ]
  },
  {
   "cell_type": "markdown",
   "id": "194b067f-6465-4c73-86b3-ddc364f2b5b8",
   "metadata": {},
   "source": [
    "Test the function. The output should look like this:\n",
    "\n",
    "```\n",
    ">seq0000\n",
    "MLKLSFKKITHSANIPLVSPVISLLNASRFSKLSLIKVPLPERAIESPVQTFIGIRPSIS\n",
    "NVMLIVFFTFFPFLISVSFTDLILISGTVSYVLSFLFNFLL\n",
    ">seq0001\n",
    "MIELIGVKVLDVIKQIQQAIVYIEDRLLEPFNLQELSDYVGLSPYHLDQSFKMIVGLSPE\n",
    "AYARARKMTLAANDVING\n",
    "```"
   ]
  },
  {
   "cell_type": "code",
   "execution_count": null,
   "id": "acaf95e0-e3df-4b73-beb7-406d9c328ac1",
   "metadata": {},
   "outputs": [],
   "source": [
    "fasta = fasta_orfs(orfs)\n",
    "print(fasta[:200])"
   ]
  },
  {
   "cell_type": "markdown",
   "id": "34468e2d-a868-4642-90ea-76490bceeecd",
   "metadata": {},
   "source": [
    "<p style=\"font-size:15pt;font-weight:bold;border:1px solid;border-color:#aabbcc;padding:15px;background:#ddeeff;border-radius:15px\">5. Search for AMR dererminants with Protein BLAST</p>\n",
    "\n",
    "BLAST protein sequences of AMR determinants from `input/drugs.faa` (query) file against translated ORFs in `fasta` string (subject). For this purpose, use `subprocess` module to run Protein BLAST tool. If you need to pipe subject sequences, pass `-` as a value for `-subject` and feed the sequences to `stdin`. We need TSV output format and columns declared in `BLAST_COLS`.\n",
    "\n",
    "If the pipe exit code (aka return code) is different from `0`, it means an error occurred. In such a case, we will rise an exception with `stderr` content as an error message. If everything is ok, we will return decoded `stdout` content for further processing.\n",
    "\n",
    "```\n",
    "blastp(fasta, cols) -> string (captured standard output content)\n",
    "```"
   ]
  },
  {
   "cell_type": "code",
   "execution_count": null,
   "id": "edf151b9-3559-414c-95ca-1b9a44239e5f",
   "metadata": {},
   "outputs": [],
   "source": [
    "def blastp(fasta, cols):\n",
    "    args = ###\n",
    "    pipe = ###\n",
    "    stdout, stderr = ###\n",
    "    if pipe.returncode != 0:\n",
    "        raise Exception(stderr.decode())\n",
    "    return stdout.decode()"
   ]
  },
  {
   "cell_type": "markdown",
   "id": "f567674c-396f-48ec-830e-fa67082ee371",
   "metadata": {},
   "source": [
    "Test `blastp` function. The output should be similar to:\n",
    "\n",
    "```\n",
    "fusB\t213\t13\t209\tseq1051\t65.66\n",
    "fusB\t213\t28\t75\tseq1535\t55.00\n",
    "fusB\t213\t177\t201\tseq1076\t62.96\n",
    "fusB\t213\t181\t212\tseq1296\t59.38\n",
    "fusB\t213\t51\n",
    "```"
   ]
  },
  {
   "cell_type": "code",
   "execution_count": null,
   "id": "fdf74ce6-598a-47c0-a4f3-2cee52834c8e",
   "metadata": {},
   "outputs": [],
   "source": [
    "stdout = blastp(fasta, BLAST_COLS)\n",
    "print(stdout[:133])"
   ]
  },
  {
   "cell_type": "markdown",
   "id": "e692549c-e4b8-4342-b74b-be36a0d767b2",
   "metadata": {},
   "source": [
    "<p style=\"font-size:15pt;font-weight:bold;border:1px solid;border-color:#aabbcc;padding:15px;background:#ddeeff;border-radius:15px\">6. Feed the results into a Pandas DataFrame</p>\n",
    "\n",
    "It is time now to implement `feed_df()` function, which takes standard output as well as column names requested from Protein BLAST to feed the data into a Pandas DataFrame and return the reference to it. Remember, if you wish to make a string behave like a text file, wrap it up in `StringIO` object.\n",
    "\n",
    "```\n",
    "feed_df(stdout, cols) -> DataFrame\n",
    "```"
   ]
  },
  {
   "cell_type": "code",
   "execution_count": null,
   "id": "305ddd26-0cd4-4d1d-86d9-7ae5ead2e446",
   "metadata": {},
   "outputs": [],
   "source": [
    "def feed_df(stdout, cols):\n",
    "    df = ###\n",
    "    return df"
   ]
  },
  {
   "cell_type": "markdown",
   "id": "2d520ff0-98a0-4ccc-9a64-f3ad00c416f4",
   "metadata": {},
   "source": [
    "Test you implementation here. The expected output should look like:\n",
    "\n",
    "||qseqid|qlen|qstart|qend|sseqid|ppos|\n",
    "|-|-|-|-|-|-|-|\n",
    "|0|fusB|213|13|209|seq1051|65.66|\n",
    "|1|fusB|213|28|75|seq1535|55.00|\n",
    "|2|fusB|213|177|201|seq1076|62.96|\n",
    "|3|fusB|213|181|212|seq1296|59.38|\n",
    "|4|fusB|213|51|98|seq2003|52.08|"
   ]
  },
  {
   "cell_type": "code",
   "execution_count": null,
   "id": "82379215-64f1-492c-849e-bd8a1f3fb2a9",
   "metadata": {},
   "outputs": [],
   "source": [
    "df = feed_df(stdout, BLAST_COLS)\n",
    "df.head()"
   ]
  },
  {
   "cell_type": "markdown",
   "id": "98ca70cb-5c05-4e06-a269-f146b2d24278",
   "metadata": {},
   "source": [
    "<p style=\"font-size:15pt;font-weight:bold;border:1px solid;border-color:#aabbcc;padding:15px;background:#ddeeff;border-radius:15px\">7. Filter BLAST results</p>\n",
    "\n",
    "Having your DataFrame (referenced here as `df`), implement a funoction which takes that reference and filters the data within the DataFrame as follows:\n",
    "\n",
    "- creates new column named `qcovs`, the values of which are query coverage expressed in % and calculated according to the formula (use `np.round()` method to round the final result to two digits after the decimal point):\n",
    "$$qcovs = \\frac { | qend - qstart | + 1} {qlen}\\cdot 100$$\n",
    "- preserves only those rows for which `qcovs` is at least 90.0 and `ppos` as least 80.0\n",
    "- sorts rows by values of `ppos` column in <u>descending order</u>\n",
    "- drops duplicated rows in respect to values of `sseqid` column\n",
    "\n",
    "That will allow you to avoid a situation when one translated ORF is matched to a few AMR determinants. It may happen some of the determinants are phylogenetically related. We will pick up the best hit. By filtering in respect to query coverage and sequence similarity at high value thresholds we are trying to assure that no distantly related protein sequence is confused with a given AMR determinant."
   ]
  },
  {
   "cell_type": "code",
   "execution_count": null,
   "id": "070bb0a6-765f-4548-890b-11975065c839",
   "metadata": {},
   "outputs": [],
   "source": [
    "def filter_df(df):\n",
    "    df['qcovs'] = ###\n",
    "    filt_df = ###\n",
    "    filt_df.###\n",
    "    filt_df.###\n",
    "    return filt_df"
   ]
  },
  {
   "cell_type": "markdown",
   "id": "51c27b2e-26f7-4eb9-943a-75ae69a3721c",
   "metadata": {},
   "source": [
    "Again, test whether your function actually works. The expected output should look something this:\n",
    "\n",
    "||qseqid|qlen|qstart|qend|sseqid|ppos|qcovs|\n",
    "|-|-|-|-|-|-|-|-|\n",
    "|16|mgrA|147|1|147|seq2338|100.0|100.0|\n",
    "|1384|Saur_norA|388|1|388|seq1218|100.0|100.0|\n",
    "|1908|sdrM|447|1|447|seq2520|100.0|100.0|\n",
    "|451|mepR|139|1|139|seq0679|100.0|100.0|\n",
    "|685|mecA|668|1|668|seq1968|100.0|100.0|"
   ]
  },
  {
   "cell_type": "code",
   "execution_count": null,
   "id": "784d8ca3-4b0c-4c75-a538-3837ef4478c8",
   "metadata": {},
   "outputs": [],
   "source": [
    "filt_df = filter_df(df)\n",
    "filt_df.head()"
   ]
  },
  {
   "cell_type": "markdown",
   "id": "3890e14f-0959-433c-8b09-475a4927973b",
   "metadata": {},
   "source": [
    "<p style=\"font-size:15pt;font-weight:bold;border:1px solid;border-color:#aabbcc;padding:15px;background:#ddeeff;border-radius:15px\">8. Obtain a list of drugs</p>\n",
    "\n",
    "Once you have your data filtered, obtain from `qseqid` column a Numpy array of unique values. Convert it to a plain Python list. That will tell you what AMR determinants are carried in the analysed genome (by a given strain of bacteria). The expected output:\n",
    "\n",
    "```\n",
    "['mgrA',\n",
    " 'Saur_norA',\n",
    " 'sdrM',\n",
    " 'mepR',\n",
    " 'mecA',\n",
    " 'arlR',\n",
    " 'tet(38)',\n",
    " 'arlS',\n",
    " 'Saur_FosB',\n",
    " 'Saur_LmrS',\n",
    " 'mepA',\n",
    " 'norC',\n",
    " 'kdpD',\n",
    " 'sepA',\n",
    " 'fusC',\n",
    " 'PC1_blaZ',\n",
    " 'dfrC']\n",
    "```"
   ]
  },
  {
   "cell_type": "code",
   "execution_count": null,
   "id": "abcfebb4-e4cb-4058-9053-6635374eee42",
   "metadata": {},
   "outputs": [],
   "source": [
    "drugs = ###\n",
    "drugs"
   ]
  },
  {
   "cell_type": "markdown",
   "id": "f59191c1-9a7b-4eb6-8b74-700ec5d49d56",
   "metadata": {},
   "source": [
    "<p style=\"font-size:15pt;font-weight:bold;border:1px solid;border-color:#aabbcc;padding:15px;background:#ffddee;border-radius:15px\">9. Analyse all genomes</p>\n",
    "\n",
    "You known that you can use your functions in a line to analyse one genome and obtain a list of AMR determinants:\n",
    "\n",
    "```\n",
    "read_fasta() -> find_orfs() -> fasta_orfs() -> blastp() -> feed_df() -> filter_df()\n",
    "```\n",
    "\n",
    "Use these functions to obtain a list of AMR determinants for each sequence within each genome iteratively. Each iteration expand the list of AMRs that have been found.\n",
    "\n",
    "At the end, convert the list into a Pandas Series, and by using a proper method count value occurrences in that Series. You will obtain a Series lookin something like, where instead of `<count>` placeholders you will see number of genomes in which a given AMR determinant has been found:\n",
    "\n",
    "```\n",
    "mgrA         <count>\n",
    "Saur_LmrS    <count>\n",
    "PC1_blaZ     <count>\n",
    "```"
   ]
  },
  {
   "cell_type": "code",
   "execution_count": null,
   "id": "f68846d7-a3f9-469e-9d6b-1ba5ae95ad37",
   "metadata": {},
   "outputs": [],
   "source": [
    "###"
   ]
  },
  {
   "cell_type": "markdown",
   "id": "81492abb-825f-460c-9f84-d170d2de3bb3",
   "metadata": {},
   "source": [
    "<p style=\"font-size:15pt;font-weight:bold;border:1px solid;border-color:#aabbcc;padding:15px;background:#ffddee;border-radius:15px\">10. Visualise obtained data</p>\n",
    "\n",
    "Using Matplotlib prepare a nice a bar plot to visualise obtained AMR determiant counts, i.e. prevalence of the analysed detemrinants in the analysed genomes."
   ]
  },
  {
   "cell_type": "code",
   "execution_count": null,
   "id": "c7770f77-b19a-47a9-b65a-a70a2eeb7545",
   "metadata": {},
   "outputs": [],
   "source": [
    "###"
   ]
  }
 ],
 "metadata": {
  "kernelspec": {
   "display_name": "Python 3 (ipykernel)",
   "language": "python",
   "name": "python3"
  },
  "language_info": {
   "codemirror_mode": {
    "name": "ipython",
    "version": 3
   },
   "file_extension": ".py",
   "mimetype": "text/x-python",
   "name": "python",
   "nbconvert_exporter": "python",
   "pygments_lexer": "ipython3",
   "version": "3.9.13"
  }
 },
 "nbformat": 4,
 "nbformat_minor": 5
}
