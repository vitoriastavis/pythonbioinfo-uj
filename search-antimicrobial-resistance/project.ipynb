{
 "cells": [
  {
   "cell_type": "markdown",
   "id": "a8f4d8b9-ea15-46aa-8039-bd147bca8a6c",
   "metadata": {
    "id": "a8f4d8b9-ea15-46aa-8039-bd147bca8a6c"
   },
   "source": [
    "---\n",
    "WBT-MBT2-25E <i>Programming Python for Bioinformatics</i> &copy; 2021-2023 Michal Bukowski (m.bukowski@uj.edu.pl) Department of Analytical Biochemistry, Faculty of Biochemistry, Biophysics and Biotechnology, Jagiellonian University\n",
    "\n",
    "---"
   ]
  },
  {
   "cell_type": "markdown",
   "id": "d7d2dafe-88f9-4020-b251-71e2a64f77e9",
   "metadata": {
    "id": "d7d2dafe-88f9-4020-b251-71e2a64f77e9"
   },
   "source": [
    "<p style=\"font-size:15pt;font-weight:bold;border:1px solid;border-color:#aabbcc;padding:15px;background:#ddffee;border-radius:15px\">Mini project: search for antimicrobial resistance (AMR) determinants</p>"
   ]
  },
  {
   "cell_type": "markdown",
   "id": "a897c244-4d5f-494e-bd16-39b0c4bbf157",
   "metadata": {
    "id": "a897c244-4d5f-494e-bd16-39b0c4bbf157"
   },
   "source": [
    "Your task is to deliver a well-structured code that, given a whole genome sequence of an <i>S. aureus</i> strain, determines what antimicrobial resistance (AMR) determinant are coded in it. The data provided are:\n",
    "\n",
    "    ├── lib\n",
    "    │   └── orfs.py\n",
    "    ├── genomes\n",
    "    │   ├── ...\n",
    "    │   └── GCA_001019205.2_genomic.fna\n",
    "    ├── input\n",
    "    │   └── drugs.faa\n",
    "    └── DRUGS.ipynb\n",
    "\n",
    "1. In the file `lib/orfs.py` a few useful functions are implemented. Open and study it.\n",
    "1. In the directory `genomes` you have fasta format files with example genomes, for which you need to determine ST and CC. First you will use one of them (`GCA_001019205.2_genomic.fna`) to prepare a working code. Then you will analyse the rest.\n",
    "1. The file `input/drugs.faa` is a fasta format file with protein sequences of selected AMR determinants (obtained from [CARD](https://card.mcmaster.ca/) database).\n",
    "1. `DRUGS.ipynb` is this notebook :)\n",
    "\n",
    "You may decide about the way you will implement the solution. However, I provided below some suggestions you may follow. Triple comment character `###` is a placeholder for your code.\n",
    "\n",
    "Should you have any questions, please get in touch with me on MS Teams chat."
   ]
  },
  {
   "cell_type": "markdown",
   "id": "6abb020f-ac1d-46d5-8a42-6d5f6801abce",
   "metadata": {
    "id": "6abb020f-ac1d-46d5-8a42-6d5f6801abce"
   },
   "source": [
    "<p style=\"font-size:15pt;font-weight:bold;border:1px solid;border-color:#aabbcc;padding:15px;background:#ddeeff;border-radius:15px\">1. Set up the environment</p>\n",
    "\n",
    "Import necessary libraries and define `BLAST_COLS` constant as a string variable with desirable column names separated with space.\n",
    "\n",
    "From your custom library `lib.orfs` (`orfs.py` file in the `lib` directory) import two functions you will need to search for all possible open reading frames (ORFs) of a given minimal length in nucleotide sequences (`find_orfs(seq)`) and translating those ORFs into protein sequences (`translate(seq)`)."
   ]
  },
  {
   "cell_type": "code",
   "execution_count": 2,
   "id": "786e6c7d-bd84-4c7d-829c-3b0874a79b9f",
   "metadata": {
    "id": "786e6c7d-bd84-4c7d-829c-3b0874a79b9f"
   },
   "outputs": [],
   "source": [
    "import numpy as np\n",
    "import pandas as pd\n",
    "from io import StringIO\n",
    "from subprocess import Popen, PIPE\n",
    "from lib.orfs import find_orfs, translate"
   ]
  },
  {
   "cell_type": "markdown",
   "id": "18368ada-cc69-4e8a-8c4b-f76708df131c",
   "metadata": {
    "id": "18368ada-cc69-4e8a-8c4b-f76708df131c"
   },
   "source": [
    "Regarding columns values for which are returned by BLAST tools, you will need:\n",
    "- query sequence id\n",
    "- query length\n",
    "- query start\n",
    "- query end\n",
    "- subject sequence id\n",
    "- percent of similar positions in an alignment (sequence similarity)"
   ]
  },
  {
   "cell_type": "code",
   "execution_count": 3,
   "id": "8c743662-a09c-4e6c-b499-f11f223b111f",
   "metadata": {
    "id": "8c743662-a09c-4e6c-b499-f11f223b111f"
   },
   "outputs": [],
   "source": [
    "BLAST_COLS = '6 qseqid qlen qstart qend sseqid ppos'"
   ]
  },
  {
   "cell_type": "markdown",
   "id": "bdf2851d-6ccf-4e14-80e3-e8e25312e0ee",
   "metadata": {
    "id": "bdf2851d-6ccf-4e14-80e3-e8e25312e0ee"
   },
   "source": [
    "<p style=\"font-size:15pt;font-weight:bold;border:1px solid;border-color:#aabbcc;padding:15px;background:#ddeeff;border-radius:15px\">2. Read FASTA files</p>\n",
    "\n",
    "Implement a function that given a file path reads sequences from a FASTA file into a dictionary. Sequnence ids will be the dictionary keys and sequecnes its values. Sequences must not contain end of line (EOL) characters. <br>\n",
    "\n",
    "```\n",
    "read_fasta(path) -> dict[seqid]->seq\n",
    "```"
   ]
  },
  {
   "cell_type": "code",
   "execution_count": 4,
   "id": "eb32c79e-09ea-4025-ba9a-961bf512cb2e",
   "metadata": {
    "id": "eb32c79e-09ea-4025-ba9a-961bf512cb2e"
   },
   "outputs": [],
   "source": [
    "# reads all the fasta sequence in a multifasta file from a path\n",
    "# and saves them in a dictionary indexed by seqid\n",
    "def read_fasta(fpath):\n",
    "    seqs = {}\n",
    "    \n",
    "    with open(fpath, 'r') as f:\n",
    "\n",
    "        for line in f:\n",
    "            line = line.rstrip()\n",
    "\n",
    "            # it's the sequence's description\n",
    "            if line.startswith('>'):\n",
    "\n",
    "                # splits the line into a list\n",
    "                line_content = line.split()\n",
    "\n",
    "                # gets the first element of the splitted line,\n",
    "                # which is the seqid and removes the >\n",
    "                seqid = line_content[0].replace('>', '')\n",
    "\n",
    "            # it's the sequence\n",
    "            else:\n",
    "                # get the dictionary keys\n",
    "                dict_keys = list(seqs.keys())\n",
    "                # if the current seqid is not in the dictionary\n",
    "                if seqid not in dict_keys:\n",
    "                    # add the key and value to it\n",
    "                    seqs[seqid] = line\n",
    "                else:\n",
    "                    # get the sequence\n",
    "                    seqid_seq = seqs[seqid]\n",
    "                    # update it\n",
    "                    seqid_seq = seqid_seq + line\n",
    "                    seqs[seqid] = seqid_seq\n",
    "    return seqs"
   ]
  },
  {
   "cell_type": "markdown",
   "id": "a036523d-f3a9-4483-b520-b384b82f5aa8",
   "metadata": {
    "id": "a036523d-f3a9-4483-b520-b384b82f5aa8"
   },
   "source": [
    "Run the code below to test the function. The output should look like this:\n",
    "```\n",
    "dict_keys(['CP026953.1', 'CP026954.1', 'CP026955.1', 'CP026956.1'])\n",
    "GTAACCATTC\n",
    "```"
   ]
  },
  {
   "cell_type": "code",
   "execution_count": 5,
   "id": "d624dcd7-04b8-472b-adc7-fa0ef1a1e7a0",
   "metadata": {
    "colab": {
     "base_uri": "https://localhost:8080/"
    },
    "id": "d624dcd7-04b8-472b-adc7-fa0ef1a1e7a0",
    "outputId": "6c3e4b98-ae0a-424a-bf73-3849ee97feaa"
   },
   "outputs": [
    {
     "name": "stdout",
     "output_type": "stream",
     "text": [
      "dict_keys(['CP026953.1', 'CP026954.1', 'CP026955.1', 'CP026956.1'])\n",
      "GTAACCATTC\n"
     ]
    }
   ],
   "source": [
    "# read sequences from a test file\n",
    "seqs = read_fasta('genomes/GCA_001019205.2_genomic.fna')\n",
    "\n",
    "# print the doctionary keys (seqids)\n",
    "print(seqs.keys())\n",
    "\n",
    "# print first 10 characters of a selected sequence\n",
    "print(seqs['CP026953.1'][:10])"
   ]
  },
  {
   "cell_type": "markdown",
   "id": "da55cc8c-9d28-490b-a176-86de6e814c98",
   "metadata": {
    "id": "da55cc8c-9d28-490b-a176-86de6e814c98"
   },
   "source": [
    "<p style=\"font-size:15pt;font-weight:bold;border:1px solid;border-color:#aabbcc;padding:15px;background:#ddeeff;border-radius:15px\">3. Search for ORFs</p>\n",
    "\n",
    "Using the imported function `find_orfs()` find all possible ORFs of length of at least `300 nt` in sequence `seqs['CP026953.1']`. Since the function is actually a generator (executes lazily, once iterated over or converted into a collection), you need to convert the output into a list. The output here should be:\n",
    "\n",
    "```\n",
    "ATGTTAAAACTTTCATTTAAAAAGATTACG\n",
    "```"
   ]
  },
  {
   "cell_type": "code",
   "execution_count": 9,
   "id": "4e23b4bb-40b6-4936-8704-234ea5b781c5",
   "metadata": {
    "colab": {
     "base_uri": "https://localhost:8080/"
    },
    "id": "4e23b4bb-40b6-4936-8704-234ea5b781c5",
    "outputId": "5be0fd43-1107-4b5e-f9e2-7594812b4c74"
   },
   "outputs": [
    {
     "name": "stdout",
     "output_type": "stream",
     "text": [
      "ATGTTAAAACTTTCATTTAAAAAGATTACG\n"
     ]
    }
   ],
   "source": [
    "query = seqs['CP026953.1']\n",
    "minlen = 300\n",
    "\n",
    "orfs = list(find_orfs(query, minlen))\n",
    "print( orfs[0][:30] )"
   ]
  },
  {
   "cell_type": "markdown",
   "id": "81869daf-141e-4b5b-b599-20d7f05725e3",
   "metadata": {
    "id": "81869daf-141e-4b5b-b599-20d7f05725e3"
   },
   "source": [
    "<p style=\"font-size:15pt;font-weight:bold;border:1px solid;border-color:#aabbcc;padding:15px;background:#ddeeff;border-radius:15px\">4. Convert translated ORFs into FASTA-formated string</p>\n",
    "\n",
    "First implement the function `create_fasta()`, which takes a sequence id and a sequence and returns a FASTA-formated string with 60-character lines.\n",
    "\n",
    "```\n",
    "create_fasta(seqid, seq) -> string (sequence in FASTA format)\n",
    "```"
   ]
  },
  {
   "cell_type": "code",
   "execution_count": 10,
   "id": "0b608a56-ee12-484d-8f4d-81efdfd5e46c",
   "metadata": {
    "id": "0b608a56-ee12-484d-8f4d-81efdfd5e46c"
   },
   "outputs": [],
   "source": [
    "# divides a string in lines of given length\n",
    "# returns a list with splitted lines\n",
    "def divide_string(string, line_length):\n",
    "    lines = []\n",
    "\n",
    "    start = 0\n",
    "    end = line_length\n",
    "\n",
    "    # starts at 0 and stops when reaching the string end\n",
    "    while start < len(string):\n",
    "        # get line from start to given length\n",
    "        line = string[start:end]\n",
    "        lines.append(line)\n",
    "        # updates start and end\n",
    "        start = end\n",
    "        end += line_length\n",
    "\n",
    "    return lines\n",
    "\n",
    "# from seqid and seq, returns a string\n",
    "# in fasta format\n",
    "def create_fasta(seqid, seq):\n",
    "    # add >seqid and new line\n",
    "    fasta = f'>{seqid}\\n'\n",
    "\n",
    "    len = 60\n",
    "    # get lines with 60 characters\n",
    "    lines = divide_string(seq, len)\n",
    "\n",
    "    # concatenate them to the fasta\n",
    "    for line in lines:\n",
    "        fasta = fasta + line + '\\n'\n",
    "\n",
    "    return fasta"
   ]
  },
  {
   "cell_type": "markdown",
   "id": "7079e611-9f44-43ad-8def-6c1fccb3996d",
   "metadata": {
    "id": "7079e611-9f44-43ad-8def-6c1fccb3996d"
   },
   "source": [
    "Test the function. The output should look like this:\n",
    "\n",
    "```\n",
    ">seq0000\n",
    "ATGCTGGATGCCAAATGCTGGATGCCAAATGCTGGATGCCAAATGCTGGATGCCAAATGC\n",
    "TGGATGCCAAATGCTGGATGCCAAATGCTGGATGCCAAATGCTGGATGCCAAATGCTGGA\n",
    "TGCCAAATGCTGGATGCCAA\n",
    "```"
   ]
  },
  {
   "cell_type": "code",
   "execution_count": 11,
   "id": "e4a18caa-73b3-4395-97ed-c8d45cbfe2f5",
   "metadata": {
    "colab": {
     "base_uri": "https://localhost:8080/"
    },
    "id": "e4a18caa-73b3-4395-97ed-c8d45cbfe2f5",
    "outputId": "108d57c5-54a3-4f79-fd94-f84fb4b706a8"
   },
   "outputs": [
    {
     "name": "stdout",
     "output_type": "stream",
     "text": [
      ">seq0000\n",
      "ATGCTGGATGCCAAATGCTGGATGCCAAATGCTGGATGCCAAATGCTGGATGCCAAATGC\n",
      "TGGATGCCAAATGCTGGATGCCAAATGCTGGATGCCAAATGCTGGATGCCAAATGCTGGA\n",
      "TGCCAAATGCTGGATGCCAA\n",
      "\n"
     ]
    }
   ],
   "source": [
    "print( create_fasta('seq0000', 'ATGCTGGATGCCAA' * 10) )"
   ]
  },
  {
   "cell_type": "markdown",
   "id": "743243dc-aaf6-463e-a42e-9ce45787b0f7",
   "metadata": {
    "id": "743243dc-aaf6-463e-a42e-9ce45787b0f7"
   },
   "source": [
    "Now define the function `fasta_orfs()` that will utilse previously defined `create_fasta()` and imported `translate()` to convert the whole list `orfs` of opean reading frame <u>nucleotide</u> sequences into a multiple sequence FASTA-formated string of their translations, i.e. <u>protein</u> sequences.\n",
    "\n",
    "Regarding sequence ids, generate them based on subsequent list indices using an f-string, e.g. `f'seq{i:04d}'`.\n",
    "\n",
    "```\n",
    "fasta_orfs(orfs) {translate(); create_fasta()} -> string (multiple sequences in FASTA format) \n",
    "```\n",
    "\n",
    "<font color=\"bb0000\">A special challenge for you</font>: you may use a `for`-loop to iterate over `orfs`, the implementation details are entirely up to you. <u>However</u> it is possible to implement everything in one line using a list comprehension and the `enumerate()` built-in function. Good luck :D"
   ]
  },
  {
   "cell_type": "code",
   "execution_count": 12,
   "id": "69a16e36-4773-437f-957d-9510ac9d0d1e",
   "metadata": {
    "id": "69a16e36-4773-437f-957d-9510ac9d0d1e"
   },
   "outputs": [],
   "source": [
    "# convert orfs into multifasta of protein sequences\n",
    "def fasta_orfs(orfs):\n",
    "    # multifasta = ''.join([create_fasta(f'seq{index:04d}', translate(orf)) for index, orf in enumerate(orfs)])\n",
    "\n",
    "    multifasta = ''\n",
    "\n",
    "    for i in range(len(orfs)):\n",
    "\n",
    "        # get protein sequence\n",
    "        orf_prot = translate(orfs[i])\n",
    "\n",
    "        # get seqid\n",
    "        prot_seqid = f'seq{i:04d}'\n",
    "\n",
    "        # create fasta\n",
    "        prot_fasta = create_fasta(prot_seqid, orf_prot)\n",
    "\n",
    "        # add it to multifasta \n",
    "        multifasta = multifasta + prot_fasta\n",
    "        \n",
    "    return multifasta"
   ]
  },
  {
   "cell_type": "markdown",
   "id": "194b067f-6465-4c73-86b3-ddc364f2b5b8",
   "metadata": {
    "id": "194b067f-6465-4c73-86b3-ddc364f2b5b8"
   },
   "source": [
    "Test the function. The output should look like this:\n",
    "\n",
    "```\n",
    ">seq0000\n",
    "MLKLSFKKITHSANIPLVSPVISLLNASRFSKLSLIKVPLPERAIESPVQTFIGIRPSIS\n",
    "NVMLIVFFTFFPFLISVSFTDLILISGTVSYVLSFLFNFLL\n",
    ">seq0001\n",
    "MIELIGVKVLDVIKQIQQAIVYIEDRLLEPFNLQELSDYVGLSPYHLDQSFKMIVGLSPE\n",
    "AYARARKMTLAANDVING\n",
    "```"
   ]
  },
  {
   "cell_type": "code",
   "execution_count": 13,
   "id": "acaf95e0-e3df-4b73-beb7-406d9c328ac1",
   "metadata": {
    "colab": {
     "base_uri": "https://localhost:8080/"
    },
    "id": "acaf95e0-e3df-4b73-beb7-406d9c328ac1",
    "outputId": "042dd2e7-ff7e-408f-99a2-d2775f19ba70"
   },
   "outputs": [
    {
     "name": "stdout",
     "output_type": "stream",
     "text": [
      ">seq0000\n",
      "MLKLSFKKITHSANIPLVSPVISLLNASRFSKLSLIKVPLPERAIESPVQTFIGIRPSIS\n",
      "NVMLIVFFTFFPFLISVSFTDLILISGTVSYVLSFLFNFLL\n",
      ">seq0001\n",
      "MIELIGVKVLDVIKQIQQAIVYIEDRLLEPFNLQELSDYVGLSPYHLDQSFKMIVGLSPE\n",
      "AYARARKMTLAANDVING\n"
     ]
    }
   ],
   "source": [
    "fasta = fasta_orfs(orfs)\n",
    "print(fasta[:200])"
   ]
  },
  {
   "cell_type": "markdown",
   "id": "34468e2d-a868-4642-90ea-76490bceeecd",
   "metadata": {
    "id": "34468e2d-a868-4642-90ea-76490bceeecd"
   },
   "source": [
    "<p style=\"font-size:15pt;font-weight:bold;border:1px solid;border-color:#aabbcc;padding:15px;background:#ddeeff;border-radius:15px\">5. Search for AMR dererminants with Protein BLAST</p>\n",
    "\n",
    "BLAST protein sequences of AMR determinants from `input/drugs.faa` (query) file against translated ORFs in `fasta` string (subject). For this purpose, use `subprocess` module to run Protein BLAST tool. If you need to pipe subject sequences, pass `-` as a value for `-subject` and feed the sequences to `stdin`. We need TSV output format and columns declared in `BLAST_COLS`.\n",
    "\n",
    "If the pipe exit code (aka return code) is different from `0`, it means an error occurred. In such a case, we will rise an exception with `stderr` content as an error message. If everything is ok, we will return decoded `stdout` content for further processing.\n",
    "\n",
    "```\n",
    "blastp(fasta, cols) -> string (captured standard output content)\n",
    "```"
   ]
  },
  {
   "cell_type": "code",
   "execution_count": 14,
   "id": "edf151b9-3559-414c-95ca-1b9a44239e5f",
   "metadata": {
    "id": "edf151b9-3559-414c-95ca-1b9a44239e5f"
   },
   "outputs": [],
   "source": [
    "def blastp(fasta, cols):\n",
    "\n",
    "    args = [\n",
    "        'blastp', '-outfmt', BLAST_COLS,\n",
    "        '-query', 'input/drugs.faa',\n",
    "        '-subject', '-'\n",
    "    ]\n",
    "    \n",
    "    pipe = Popen(args, stdin=PIPE, stdout=PIPE, stderr=PIPE)\n",
    "    stdout, stderr = pipe.communicate(input=fasta.encode())\n",
    "    \n",
    "    if pipe.returncode != 0:\n",
    "        raise Exception(stderr.decode())\n",
    "        \n",
    "    return stdout.decode()"
   ]
  },
  {
   "cell_type": "markdown",
   "id": "f567674c-396f-48ec-830e-fa67082ee371",
   "metadata": {
    "id": "f567674c-396f-48ec-830e-fa67082ee371"
   },
   "source": [
    "Test `blastp` function. The output should be similar to:\n",
    "\n",
    "```\n",
    "fusB\t213\t13\t209\tseq1051\t65.66\n",
    "fusB\t213\t28\t75\tseq1535\t55.00\n",
    "fusB\t213\t177\t201\tseq1076\t62.96\n",
    "fusB\t213\t181\t212\tseq1296\t59.38\n",
    "fusB\t213\t51\n",
    "```"
   ]
  },
  {
   "cell_type": "code",
   "execution_count": 15,
   "id": "fdf74ce6-598a-47c0-a4f3-2cee52834c8e",
   "metadata": {
    "colab": {
     "base_uri": "https://localhost:8080/",
     "height": 400
    },
    "id": "fdf74ce6-598a-47c0-a4f3-2cee52834c8e",
    "outputId": "22657e95-4de8-44ed-b6a2-092acea72dc3"
   },
   "outputs": [
    {
     "name": "stdout",
     "output_type": "stream",
     "text": [
      "fusB\t213\t13\t209\tseq1051\t65.66\n",
      "fusB\t213\t28\t75\tseq1535\t55.00\n",
      "fusB\t213\t177\t201\tseq1076\t62.96\n",
      "fusB\t213\t181\t212\tseq1296\t59.38\n",
      "fusB\t213\t51\t\n"
     ]
    }
   ],
   "source": [
    "stdout = blastp(fasta, BLAST_COLS)\n",
    "print(stdout[:133])"
   ]
  },
  {
   "cell_type": "markdown",
   "id": "e692549c-e4b8-4342-b74b-be36a0d767b2",
   "metadata": {
    "id": "e692549c-e4b8-4342-b74b-be36a0d767b2"
   },
   "source": [
    "<p style=\"font-size:15pt;font-weight:bold;border:1px solid;border-color:#aabbcc;padding:15px;background:#ddeeff;border-radius:15px\">6. Feed the results into a Pandas DataFrame</p>\n",
    "\n",
    "It is time now to implement `feed_df()` function, which takes standard output as well as column names requested from Protein BLAST to feed the data into a Pandas DataFrame and return the reference to it. Remember, if you wish to make a string behave like a text file, wrap it up in `StringIO` object.\n",
    "\n",
    "```\n",
    "feed_df(stdout, cols) -> DataFrame\n",
    "```"
   ]
  },
  {
   "cell_type": "code",
   "execution_count": 16,
   "id": "305ddd26-0cd4-4d1d-86d9-7ae5ead2e446",
   "metadata": {
    "id": "305ddd26-0cd4-4d1d-86d9-7ae5ead2e446"
   },
   "outputs": [],
   "source": [
    "def feed_df(stdout, cols):\n",
    "    \n",
    "    # split blast columns into list and removes '6'\n",
    "    names_list = cols.split(' ')[1:]\n",
    "    \n",
    "    # stdout to StringIO object\n",
    "    res = StringIO(stdout)\n",
    "  \n",
    "    # StringIO object to dataframe\n",
    "    df = pd.read_csv(res, names=names_list, sep='\\t')\n",
    "    \n",
    "    return df"
   ]
  },
  {
   "cell_type": "markdown",
   "id": "2d520ff0-98a0-4ccc-9a64-f3ad00c416f4",
   "metadata": {
    "id": "2d520ff0-98a0-4ccc-9a64-f3ad00c416f4"
   },
   "source": [
    "Test you implementation here. The expected output should look like:\n",
    "\n",
    "||qseqid|qlen|qstart|qend|sseqid|ppos|\n",
    "|-|-|-|-|-|-|-|\n",
    "|0|fusB|213|13|209|seq1051|65.66|\n",
    "|1|fusB|213|28|75|seq1535|55.00|\n",
    "|2|fusB|213|177|201|seq1076|62.96|\n",
    "|3|fusB|213|181|212|seq1296|59.38|\n",
    "|4|fusB|213|51|98|seq2003|52.08|"
   ]
  },
  {
   "cell_type": "code",
   "execution_count": 17,
   "id": "82379215-64f1-492c-849e-bd8a1f3fb2a9",
   "metadata": {
    "id": "82379215-64f1-492c-849e-bd8a1f3fb2a9"
   },
   "outputs": [
    {
     "data": {
      "text/html": [
       "<div>\n",
       "<style scoped>\n",
       "    .dataframe tbody tr th:only-of-type {\n",
       "        vertical-align: middle;\n",
       "    }\n",
       "\n",
       "    .dataframe tbody tr th {\n",
       "        vertical-align: top;\n",
       "    }\n",
       "\n",
       "    .dataframe thead th {\n",
       "        text-align: right;\n",
       "    }\n",
       "</style>\n",
       "<table border=\"1\" class=\"dataframe\">\n",
       "  <thead>\n",
       "    <tr style=\"text-align: right;\">\n",
       "      <th></th>\n",
       "      <th>qseqid</th>\n",
       "      <th>qlen</th>\n",
       "      <th>qstart</th>\n",
       "      <th>qend</th>\n",
       "      <th>sseqid</th>\n",
       "      <th>ppos</th>\n",
       "    </tr>\n",
       "  </thead>\n",
       "  <tbody>\n",
       "    <tr>\n",
       "      <th>0</th>\n",
       "      <td>fusB</td>\n",
       "      <td>213</td>\n",
       "      <td>13</td>\n",
       "      <td>209</td>\n",
       "      <td>seq1051</td>\n",
       "      <td>65.66</td>\n",
       "    </tr>\n",
       "    <tr>\n",
       "      <th>1</th>\n",
       "      <td>fusB</td>\n",
       "      <td>213</td>\n",
       "      <td>28</td>\n",
       "      <td>75</td>\n",
       "      <td>seq1535</td>\n",
       "      <td>55.00</td>\n",
       "    </tr>\n",
       "    <tr>\n",
       "      <th>2</th>\n",
       "      <td>fusB</td>\n",
       "      <td>213</td>\n",
       "      <td>177</td>\n",
       "      <td>201</td>\n",
       "      <td>seq1076</td>\n",
       "      <td>62.96</td>\n",
       "    </tr>\n",
       "    <tr>\n",
       "      <th>3</th>\n",
       "      <td>fusB</td>\n",
       "      <td>213</td>\n",
       "      <td>181</td>\n",
       "      <td>212</td>\n",
       "      <td>seq1296</td>\n",
       "      <td>59.38</td>\n",
       "    </tr>\n",
       "    <tr>\n",
       "      <th>4</th>\n",
       "      <td>fusB</td>\n",
       "      <td>213</td>\n",
       "      <td>51</td>\n",
       "      <td>98</td>\n",
       "      <td>seq2003</td>\n",
       "      <td>52.08</td>\n",
       "    </tr>\n",
       "  </tbody>\n",
       "</table>\n",
       "</div>"
      ],
      "text/plain": [
       "  qseqid  qlen  qstart  qend   sseqid   ppos\n",
       "0   fusB   213      13   209  seq1051  65.66\n",
       "1   fusB   213      28    75  seq1535  55.00\n",
       "2   fusB   213     177   201  seq1076  62.96\n",
       "3   fusB   213     181   212  seq1296  59.38\n",
       "4   fusB   213      51    98  seq2003  52.08"
      ]
     },
     "execution_count": 17,
     "metadata": {},
     "output_type": "execute_result"
    }
   ],
   "source": [
    "df = feed_df(stdout, BLAST_COLS)\n",
    "df.head()"
   ]
  },
  {
   "cell_type": "markdown",
   "id": "98ca70cb-5c05-4e06-a269-f146b2d24278",
   "metadata": {
    "id": "98ca70cb-5c05-4e06-a269-f146b2d24278"
   },
   "source": [
    "<p style=\"font-size:15pt;font-weight:bold;border:1px solid;border-color:#aabbcc;padding:15px;background:#ddeeff;border-radius:15px\">7. Filter BLAST results</p>\n",
    "\n",
    "Having your DataFrame (referenced here as `df`), implement a funoction which takes that reference and filters the data within the DataFrame as follows:\n",
    "\n",
    "- creates new column named `qcovs`, the values of which are query coverage expressed in % and calculated according to the formula (use `np.round()` method to round the final result to two digits after the decimal point):\n",
    "$$qcovs = \\frac { | qend - qstart | + 1} {qlen}\\cdot 100$$\n",
    "- preserves only those rows for which `qcovs` is at least 90.0 and `ppos` as least 80.0\n",
    "- sorts rows by values of `ppos` column in <u>descending order</u>\n",
    "- drops duplicated rows in respect to values of `sseqid` column\n",
    "\n",
    "That will allow you to avoid a situation when one translated ORF is matched to a few AMR determinants. It may happen some of the determinants are phylogenetically related. We will pick up the best hit. By filtering in respect to query coverage and sequence similarity at high value thresholds we are trying to assure that no distantly related protein sequence is confused with a given AMR determinant."
   ]
  },
  {
   "cell_type": "code",
   "execution_count": 18,
   "id": "070bb0a6-765f-4548-890b-11975065c839",
   "metadata": {
    "id": "070bb0a6-765f-4548-890b-11975065c839"
   },
   "outputs": [],
   "source": [
    "# filters the input dataframe by descending ppos values with qcovs\n",
    "# returns filtered df\n",
    "def filter_df(df):\n",
    "    # calculate qcovs and round it\n",
    "    df['qcovs'] = np.round((np.abs(df['qend']-df['qstart'])+1)/df['qlen']*100, 2)\n",
    "    \n",
    "    # filter qcovs >= 90 and ppo >= 80\n",
    "    filt_df = df[(df['qcovs'] >= 90.0) & (df['ppos'] >= 80.0)]\n",
    "    \n",
    "    # sort by ppos in descending order\n",
    "    filt_df = filt_df.sort_values('ppos', ascending=False)\n",
    "    \n",
    "    # drop duplicate seqids\n",
    "    filt_df = filt_df.drop_duplicates('sseqid')\n",
    "    \n",
    "    return filt_df"
   ]
  },
  {
   "cell_type": "markdown",
   "id": "51c27b2e-26f7-4eb9-943a-75ae69a3721c",
   "metadata": {
    "id": "51c27b2e-26f7-4eb9-943a-75ae69a3721c"
   },
   "source": [
    "Again, test whether your function actually works. The expected output should look something this:\n",
    "\n",
    "||qseqid|qlen|qstart|qend|sseqid|ppos|qcovs|\n",
    "|-|-|-|-|-|-|-|-|\n",
    "|16|mgrA|147|1|147|seq2338|100.0|100.0|\n",
    "|1384|Saur_norA|388|1|388|seq1218|100.0|100.0|\n",
    "|1908|sdrM|447|1|447|seq2520|100.0|100.0|\n",
    "|451|mepR|139|1|139|seq0679|100.0|100.0|\n",
    "|685|mecA|668|1|668|seq1968|100.0|100.0|"
   ]
  },
  {
   "cell_type": "code",
   "execution_count": 19,
   "id": "784d8ca3-4b0c-4c75-a538-3837ef4478c8",
   "metadata": {
    "id": "784d8ca3-4b0c-4c75-a538-3837ef4478c8"
   },
   "outputs": [
    {
     "data": {
      "text/html": [
       "<div>\n",
       "<style scoped>\n",
       "    .dataframe tbody tr th:only-of-type {\n",
       "        vertical-align: middle;\n",
       "    }\n",
       "\n",
       "    .dataframe tbody tr th {\n",
       "        vertical-align: top;\n",
       "    }\n",
       "\n",
       "    .dataframe thead th {\n",
       "        text-align: right;\n",
       "    }\n",
       "</style>\n",
       "<table border=\"1\" class=\"dataframe\">\n",
       "  <thead>\n",
       "    <tr style=\"text-align: right;\">\n",
       "      <th></th>\n",
       "      <th>qseqid</th>\n",
       "      <th>qlen</th>\n",
       "      <th>qstart</th>\n",
       "      <th>qend</th>\n",
       "      <th>sseqid</th>\n",
       "      <th>ppos</th>\n",
       "      <th>qcovs</th>\n",
       "    </tr>\n",
       "  </thead>\n",
       "  <tbody>\n",
       "    <tr>\n",
       "      <th>16</th>\n",
       "      <td>mgrA</td>\n",
       "      <td>147</td>\n",
       "      <td>1</td>\n",
       "      <td>147</td>\n",
       "      <td>seq2338</td>\n",
       "      <td>100.0</td>\n",
       "      <td>100.0</td>\n",
       "    </tr>\n",
       "    <tr>\n",
       "      <th>1384</th>\n",
       "      <td>Saur_norA</td>\n",
       "      <td>388</td>\n",
       "      <td>1</td>\n",
       "      <td>388</td>\n",
       "      <td>seq1218</td>\n",
       "      <td>100.0</td>\n",
       "      <td>100.0</td>\n",
       "    </tr>\n",
       "    <tr>\n",
       "      <th>1908</th>\n",
       "      <td>sdrM</td>\n",
       "      <td>447</td>\n",
       "      <td>1</td>\n",
       "      <td>447</td>\n",
       "      <td>seq2520</td>\n",
       "      <td>100.0</td>\n",
       "      <td>100.0</td>\n",
       "    </tr>\n",
       "    <tr>\n",
       "      <th>451</th>\n",
       "      <td>mepR</td>\n",
       "      <td>139</td>\n",
       "      <td>1</td>\n",
       "      <td>139</td>\n",
       "      <td>seq0679</td>\n",
       "      <td>100.0</td>\n",
       "      <td>100.0</td>\n",
       "    </tr>\n",
       "    <tr>\n",
       "      <th>685</th>\n",
       "      <td>mecA</td>\n",
       "      <td>668</td>\n",
       "      <td>1</td>\n",
       "      <td>668</td>\n",
       "      <td>seq1968</td>\n",
       "      <td>100.0</td>\n",
       "      <td>100.0</td>\n",
       "    </tr>\n",
       "  </tbody>\n",
       "</table>\n",
       "</div>"
      ],
      "text/plain": [
       "         qseqid  qlen  qstart  qend   sseqid   ppos  qcovs\n",
       "16         mgrA   147       1   147  seq2338  100.0  100.0\n",
       "1384  Saur_norA   388       1   388  seq1218  100.0  100.0\n",
       "1908       sdrM   447       1   447  seq2520  100.0  100.0\n",
       "451        mepR   139       1   139  seq0679  100.0  100.0\n",
       "685        mecA   668       1   668  seq1968  100.0  100.0"
      ]
     },
     "execution_count": 19,
     "metadata": {},
     "output_type": "execute_result"
    }
   ],
   "source": [
    "filt_df = filter_df(df)\n",
    "filt_df.head()"
   ]
  },
  {
   "cell_type": "markdown",
   "id": "3890e14f-0959-433c-8b09-475a4927973b",
   "metadata": {
    "id": "3890e14f-0959-433c-8b09-475a4927973b"
   },
   "source": [
    "<p style=\"font-size:15pt;font-weight:bold;border:1px solid;border-color:#aabbcc;padding:15px;background:#ddeeff;border-radius:15px\">8. Obtain a list of drugs</p>\n",
    "\n",
    "Once you have your data filtered, obtain from `qseqid` column a Numpy array of unique values. Convert it to a plain Python list. That will tell you what AMR determinants are carried in the analysed genome (by a given strain of bacteria). The expected output:\n",
    "\n",
    "```\n",
    "['mgrA',\n",
    " 'Saur_norA',\n",
    " 'sdrM',\n",
    " 'mepR',\n",
    " 'mecA',\n",
    " 'arlR',\n",
    " 'tet(38)',\n",
    " 'arlS',\n",
    " 'Saur_FosB',\n",
    " 'Saur_LmrS',\n",
    " 'mepA',\n",
    " 'norC',\n",
    " 'kdpD',\n",
    " 'sepA',\n",
    " 'fusC',\n",
    " 'PC1_blaZ',\n",
    " 'dfrC']\n",
    "```"
   ]
  },
  {
   "cell_type": "code",
   "execution_count": 22,
   "id": "abcfebb4-e4cb-4058-9053-6635374eee42",
   "metadata": {
    "id": "abcfebb4-e4cb-4058-9053-6635374eee42"
   },
   "outputs": [
    {
     "data": {
      "text/plain": [
       "['mgrA',\n",
       " 'Saur_norA',\n",
       " 'sdrM',\n",
       " 'mepR',\n",
       " 'mecA',\n",
       " 'arlR',\n",
       " 'tet(38)',\n",
       " 'arlS',\n",
       " 'Saur_FosB',\n",
       " 'Saur_LmrS',\n",
       " 'mepA',\n",
       " 'norC',\n",
       " 'kdpD',\n",
       " 'sepA',\n",
       " 'fusC',\n",
       " 'PC1_blaZ',\n",
       " 'dfrC',\n",
       " 'norC']"
      ]
     },
     "execution_count": 22,
     "metadata": {},
     "output_type": "execute_result"
    }
   ],
   "source": [
    "drugs = list(filt_df['qseqid'])\n",
    "drugs"
   ]
  },
  {
   "cell_type": "markdown",
   "id": "f59191c1-9a7b-4eb6-8b74-700ec5d49d56",
   "metadata": {
    "id": "f59191c1-9a7b-4eb6-8b74-700ec5d49d56"
   },
   "source": [
    "<p style=\"font-size:15pt;font-weight:bold;border:1px solid;border-color:#aabbcc;padding:15px;background:#ffddee;border-radius:15px\">9. Analyse all genomes</p>\n",
    "\n",
    "You known that you can use your functions in a line to analyse one genome and obtain a list of AMR determinants:\n",
    "\n",
    "```\n",
    "read_fasta() -> find_orfs() -> fasta_orfs() -> blastp() -> feed_df() -> filter_df()\n",
    "```\n",
    "\n",
    "Use these functions to obtain a list of AMR determinants for each sequence within each genome iteratively. Each iteration expand the list of AMRs that have been found.\n",
    "\n",
    "At the end, convert the list into a Pandas Series, and by using a proper method count value occurrences in that Series. You will obtain a Series lookin something like, where instead of `<count>` placeholders you will see number of genomes in which a given AMR determinant has been found:\n",
    "\n",
    "```\n",
    "mgrA         <count>\n",
    "Saur_LmrS    <count>\n",
    "PC1_blaZ     <count>\n",
    "```"
   ]
  },
  {
   "cell_type": "code",
   "execution_count": 87,
   "id": "f68846d7-a3f9-469e-9d6b-1ba5ae95ad37",
   "metadata": {
    "id": "f68846d7-a3f9-469e-9d6b-1ba5ae95ad37",
    "tags": []
   },
   "outputs": [],
   "source": [
    "import os\n",
    "\n",
    "minlen = 300\n",
    "directory = 'genomes'\n",
    "\n",
    "# list to save the ARMs\n",
    "amrs = []\n",
    "\n",
    "# for each filename in this directory\n",
    "for filename in os.listdir(directory):\n",
    "    # get the full path\n",
    "    filepath = os.path.join(directory, filename)\n",
    "    \n",
    "    # read file into fasta sequences\n",
    "    seqs = read_fasta(filepath)\n",
    "    \n",
    "    # for each sequence in the dictionary\n",
    "    for query in seqs:\n",
    "        \n",
    "        # search for ORFs \n",
    "        orfs = list(find_orfs(seqs[query], minlen)) \n",
    "        \n",
    "        # translate into protein and save into fasta format\n",
    "        fasta = fasta_orfs(orfs)\n",
    "        \n",
    "        # blast the proteins against drugs.faa\n",
    "        stdout = blastp(fasta, BLAST_COLS)\n",
    "        \n",
    "        # convert result into dataframe\n",
    "        df = feed_df(stdout, BLAST_COLS)\n",
    "        \n",
    "        # filter by ppos\n",
    "        filt_df = filter_df(df)\n",
    "        \n",
    "        # get the found drug names\n",
    "        drugs = list(filt_df['qseqid'])\n",
    "\n",
    "        # append each drug to list\n",
    "        for drug in drugs:\n",
    "            amrs.append(drug)\n",
    "        "
   ]
  },
  {
   "cell_type": "code",
   "execution_count": 88,
   "id": "e1e5aef0-16b5-4267-93f4-7d1030fdc7fb",
   "metadata": {},
   "outputs": [],
   "source": [
    "# get names and counts \n",
    "amrs_series = pd.Series(amrs)\n",
    "amrs_counts = amrs_series.value_counts()\n",
    "amrs_names = amrs_series.unique()"
   ]
  },
  {
   "cell_type": "markdown",
   "id": "81492abb-825f-460c-9f84-d170d2de3bb3",
   "metadata": {
    "id": "81492abb-825f-460c-9f84-d170d2de3bb3"
   },
   "source": [
    "<p style=\"font-size:15pt;font-weight:bold;border:1px solid;border-color:#aabbcc;padding:15px;background:#ffddee;border-radius:15px\">10. Visualise obtained data</p>\n",
    "\n",
    "Using Matplotlib prepare a nice a bar plot to visualise obtained AMR determiant counts, i.e. prevalence of the analysed detemrinants in the analysed genomes."
   ]
  },
  {
   "cell_type": "code",
   "execution_count": 89,
   "id": "c7770f77-b19a-47a9-b65a-a70a2eeb7545",
   "metadata": {
    "id": "c7770f77-b19a-47a9-b65a-a70a2eeb7545"
   },
   "outputs": [
    {
     "data": {
      "image/png": "[encoded data removed]",
      "text/plain": [
       "<Figure size 1800x500 with 1 Axes>"
      ]
     },
     "metadata": {},
     "output_type": "display_data"
    }
   ],
   "source": [
    "import matplotlib.pyplot as plt\n",
    "\n",
    "# prepare figure\n",
    "fig, ax = plt.subplots(figsize=(18,5))\n",
    "\n",
    "# barplot\n",
    "ax.bar(amrs_names, amrs_counts)\n",
    "\n",
    "# title\n",
    "ax.set_title('Presence of antimicrobial resistance determinants throughout Staphylococcus aureus strains')\n",
    "\n",
    "# axes labels\n",
    "ax.set_xlabel('AMRs', fontsize=12)\n",
    "ax.set_ylabel('Counts', fontsize=12)\n",
    "\n",
    "# rotate x labels\n",
    "ax.set_xticks(range(len(amrs_names)))  \n",
    "ax.set_xticklabels(amrs_names, rotation=45,ha='right')\n",
    "\n",
    "plt.show()"
   ]
  },
  {
   "cell_type": "code",
   "execution_count": null,
   "id": "14c66d65-3bf8-452a-b6fd-3f917a62666d",
   "metadata": {},
   "outputs": [],
   "source": []
  }
 ],
 "metadata": {
  "colab": {
   "provenance": []
  },
  "kernelspec": {
   "display_name": "Python 3 (ipykernel)",
   "language": "python",
   "name": "python3"
  },
  "language_info": {
   "codemirror_mode": {
    "name": "ipython",
    "version": 3
   },
   "file_extension": ".py",
   "mimetype": "text/x-python",
   "name": "python",
   "nbconvert_exporter": "python",
   "pygments_lexer": "ipython3",
   "version": "3.9.13"
  }
 },
 "nbformat": 4,
 "nbformat_minor": 5
}
